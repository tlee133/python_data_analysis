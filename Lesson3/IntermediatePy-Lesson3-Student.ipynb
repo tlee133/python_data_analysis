{
 "cells": [
  {
   "cell_type": "markdown",
   "metadata": {},
   "source": [
    "___\n",
    "# Lecture 3 - Regression and Interpretting Statistical Significance\n",
    "___"
   ]
  },
  {
   "cell_type": "markdown",
   "metadata": {},
   "source": [
    "## Review"
   ]
  },
  {
   "cell_type": "markdown",
   "metadata": {},
   "source": [
    "* `PCA` is a good way to assess the quality of our data\n",
    "* We can create informative plots of our data with `matplotlib`\n",
    "* `Pandas` dataframes can be filtered/subsetted\n",
    "* **Data pre-processing is important to remove noise for downstream analysis!**"
   ]
  },
  {
   "cell_type": "markdown",
   "metadata": {},
   "source": [
    "## Lesson Outline"
   ]
  },
  {
   "cell_type": "markdown",
   "metadata": {},
   "source": [
    "#### (1) [Introduction to regression](#1)\n",
    "#### (2) [Motivation](#2)\n",
    "#### (3) [Setup](#3)\n",
    "#### (4) [Regression for feature selection](#4)\n",
    "#### (5) [Additional Materials](#5)\n",
    "   - [Extra challenges](#5a)\n",
    "   - [Extra resources](#5b)"
   ]
  },
  {
   "cell_type": "markdown",
   "metadata": {},
   "source": [
    "## Introduction to Regression <a class=\"anchor\" id=\"1\"></a>"
   ]
  },
  {
   "cell_type": "markdown",
   "metadata": {},
   "source": [
    "#### Linear regression:\n",
    "<img src=\"https://upload.wikimedia.org/wikipedia/commons/thumb/3/3a/Linear_regression.svg/1200px-Linear_regression.svg.png\" width=\"500\" height=\"500\">\n",
    "\n",
    "\\begin{equation*}\\LARGE Y(x_i) = B_0 + B_1x_i + \\epsilon_i \\end{equation*}\n",
    "\n",
    "Note: `Y` is our `dependent` variable, and our `x` is our `independent` variable"
   ]
  },
  {
   "cell_type": "markdown",
   "metadata": {},
   "source": [
    "## Motivation <a class=\"anchor\" id=\"2\"></a>"
   ]
  },
  {
   "cell_type": "markdown",
   "metadata": {},
   "source": [
    "#### Can be used for `classification` and `feature selection`"
   ]
  },
  {
   "cell_type": "markdown",
   "metadata": {},
   "source": [
    "#### Examples from research\n",
    "* Genome Wide Association Studies (GWAS)\n",
    "* Drug sensitivity\n",
    "* CRISPR off-target effects"
   ]
  },
  {
   "cell_type": "markdown",
   "metadata": {},
   "source": [
    "## Setup <a class=\"anchor\" id=\"3\"></a>"
   ]
  },
  {
   "cell_type": "markdown",
   "metadata": {},
   "source": [
    "Import neccessary packages"
   ]
  },
  {
   "cell_type": "code",
   "execution_count": null,
   "metadata": {},
   "outputs": [],
   "source": [
    "import pandas as pd\n",
    "import numpy as np\n",
    "import matplotlib.pyplot as plt"
   ]
  },
  {
   "cell_type": "markdown",
   "metadata": {},
   "source": [
    "Load expression data"
   ]
  },
  {
   "cell_type": "code",
   "execution_count": null,
   "metadata": {},
   "outputs": [],
   "source": [
    "expr_data_meta = pd.read_csv(\"inSphero.abundance.table_edit190410_filtered.csv\",index_col=0)\n",
    "expr_data = expr_data_meta.drop(\"symbol\",axis=1)\n",
    "annots = expr_data_meta.loc[:,[\"symbol\"]]"
   ]
  },
  {
   "cell_type": "code",
   "execution_count": null,
   "metadata": {
    "scrolled": true
   },
   "outputs": [],
   "source": [
    "expr_data.head()"
   ]
  },
  {
   "cell_type": "markdown",
   "metadata": {},
   "source": [
    "<h3 style=\"color:red;\"> What are our dependent and independent variables? </h3>"
   ]
  },
  {
   "cell_type": "markdown",
   "metadata": {},
   "source": [
    "It may also be beneficial to use the description file"
   ]
  },
  {
   "cell_type": "code",
   "execution_count": null,
   "metadata": {},
   "outputs": [],
   "source": [
    "description = pd.read_csv(\"inSphero_doe_edit190410.csv\",index_col=1)\n",
    "description.head()"
   ]
  },
  {
   "cell_type": "markdown",
   "metadata": {},
   "source": [
    "**Problem:** The `baseline` names in `description` and `expr_data` do not match "
   ]
  },
  {
   "cell_type": "markdown",
   "metadata": {},
   "source": [
    "<h3 style=\"color:red;\"> How can we fix this? </h3>"
   ]
  },
  {
   "cell_type": "code",
   "execution_count": null,
   "metadata": {},
   "outputs": [],
   "source": []
  },
  {
   "cell_type": "code",
   "execution_count": null,
   "metadata": {},
   "outputs": [],
   "source": [
    "description.head()"
   ]
  },
  {
   "cell_type": "markdown",
   "metadata": {},
   "source": [
    "## Regression for Feature Selection <a class=\"anchor\" id=\"4\"></a>"
   ]
  },
  {
   "cell_type": "markdown",
   "metadata": {},
   "source": [
    "### Data formatting"
   ]
  },
  {
   "cell_type": "markdown",
   "metadata": {},
   "source": [
    "We want to identify genes that separate treatment and control. We will test each gene separately. First we need to create a phenotype dataframe of our `depedent` variable. "
   ]
  },
  {
   "cell_type": "code",
   "execution_count": null,
   "metadata": {},
   "outputs": [],
   "source": [
    "phenos = pd.DataFrame(index=expr_data.columns, columns=[\"group.function\",\"day\",\"outcome\"])\n",
    "phenos"
   ]
  },
  {
   "cell_type": "markdown",
   "metadata": {},
   "source": [
    "<h3 style=\"color:red;\"> Exercise: Fill out the phenos dataframe. </h3>"
   ]
  },
  {
   "cell_type": "markdown",
   "metadata": {},
   "source": [
    "The `group.function` column can be copied from the `description` dataframe."
   ]
  },
  {
   "cell_type": "code",
   "execution_count": null,
   "metadata": {},
   "outputs": [],
   "source": []
  },
  {
   "cell_type": "markdown",
   "metadata": {},
   "source": [
    "The `day` column can **also** be copied from the `description` dataframe, but lets make this an `integer` instead of `string`.\n",
    "\n",
    "**Example:** \n",
    "```\n",
    "day0 -> 0\n",
    "```\n",
    "\n",
    "**Hint:** Strings can be indexed or split! \n",
    "```python\n",
    "s = \"Hello World\"\n",
    "s_fix1 = s[:5] \n",
    "s_fix2 = s.split(\" \")[0]\n",
    "s_fix1 == s_fix2\n",
    "```"
   ]
  },
  {
   "cell_type": "code",
   "execution_count": null,
   "metadata": {},
   "outputs": [],
   "source": []
  },
  {
   "cell_type": "markdown",
   "metadata": {},
   "source": [
    "Now we need an `outcome` column, which will be a **binary** variable where `0 = control` and `1 = drug`. \n",
    "\n",
    "We can fill this out programmatically using Python's `if`/`in` statement and the `group.function` **OR** by brute-force like I did to color our scatter plot in `Lesson 2`!\n",
    "\n",
    "**Hint:**\n",
    "```python\n",
    "color = [\"blue\"]*3+...+[\"red\"]*2\n",
    "```"
   ]
  },
  {
   "cell_type": "markdown",
   "metadata": {},
   "source": [
    "Using brute-force"
   ]
  },
  {
   "cell_type": "code",
   "execution_count": null,
   "metadata": {},
   "outputs": [],
   "source": []
  },
  {
   "cell_type": "markdown",
   "metadata": {},
   "source": [
    "Programmatically"
   ]
  },
  {
   "cell_type": "code",
   "execution_count": null,
   "metadata": {},
   "outputs": [],
   "source": []
  },
  {
   "cell_type": "markdown",
   "metadata": {},
   "source": [
    "Now the `phenos` dataframe should be complete!"
   ]
  },
  {
   "cell_type": "code",
   "execution_count": null,
   "metadata": {},
   "outputs": [],
   "source": [
    "phenos"
   ]
  },
  {
   "cell_type": "markdown",
   "metadata": {},
   "source": [
    "### Model setup"
   ]
  },
  {
   "cell_type": "code",
   "execution_count": null,
   "metadata": {},
   "outputs": [],
   "source": [
    "import statsmodels.api as sm\n",
    "from statsmodels.graphics.regressionplots import abline_plot"
   ]
  },
  {
   "cell_type": "code",
   "execution_count": null,
   "metadata": {},
   "outputs": [],
   "source": [
    "def plot_gene(gene,expr_data,phenos,model):\n",
    "    \"\"\"\n",
    "    Function to plot gene expression\n",
    "    \"\"\"\n",
    "    fig = plt.figure()\n",
    "    ax = plt.axes()\n",
    "    # Plot controls\n",
    "    ax.scatter(expr_data.loc[gene,phenos.outcome==0],phenos[phenos.outcome==0].outcome,\n",
    "           label=\"control\",s=100)\n",
    "    # Plot cases\n",
    "    ax.scatter(expr_data.loc[gene,phenos.outcome==1],phenos[phenos.outcome==1].outcome,\n",
    "           label=\"treatment\",s=100)\n",
    "    # Plot regression line\n",
    "    abline_plot(model_results=model, ax=ax, color=\"black\",linestyle=\"--\")\n",
    "    ax.set_xlabel(\"Gene Expression ln(tpm)\",fontsize=14)\n",
    "    ax.set_ylabel(\"Treatment Status\",fontsize=14)\n",
    "    ax.set_title(\"Gene: {}\".format(gene),fontsize=14)\n",
    "    ax.legend(fontsize=12,bbox_to_anchor=(1.4,1))\n",
    "    plt.show()"
   ]
  },
  {
   "cell_type": "markdown",
   "metadata": {},
   "source": [
    "### Apply to data"
   ]
  },
  {
   "cell_type": "markdown",
   "metadata": {},
   "source": [
    "First lets use `linear regression` to fit our the gene `ENSG00000255689` in our data."
   ]
  },
  {
   "cell_type": "markdown",
   "metadata": {},
   "source": [
    "What is our `X` and what is our `y`?"
   ]
  },
  {
   "cell_type": "code",
   "execution_count": null,
   "metadata": {},
   "outputs": [],
   "source": [
    "X = \n",
    "y = "
   ]
  },
  {
   "cell_type": "code",
   "execution_count": null,
   "metadata": {},
   "outputs": [],
   "source": [
    "ols = sm.OLS(y,X).fit()"
   ]
  },
  {
   "cell_type": "code",
   "execution_count": null,
   "metadata": {},
   "outputs": [],
   "source": [
    "ols.summary()"
   ]
  },
  {
   "cell_type": "code",
   "execution_count": null,
   "metadata": {
    "scrolled": true
   },
   "outputs": [],
   "source": [
    "plot_gene('ENSG00000255689',expr_data,phenos,ols)"
   ]
  },
  {
   "cell_type": "markdown",
   "metadata": {},
   "source": [
    "<h3 style=\"color:red;\"> What are we missing? </h3>\n",
    "\n",
    "\\begin{equation*}\\large Y(x_i) = B_0 + B_1x_i + \\epsilon_i \\end{equation*}"
   ]
  },
  {
   "cell_type": "markdown",
   "metadata": {},
   "source": [
    "<h3 style=\"color:red;\"> Exercise: Run the linear model for ENSG00000137563. What is different about this example?</h3>"
   ]
  },
  {
   "cell_type": "code",
   "execution_count": null,
   "metadata": {},
   "outputs": [],
   "source": [
    "X = \n",
    "y = \n",
    "\n",
    "ols = \n",
    "\n",
    "plot_gene('ENSG00000137563',expr_data,phenos,ols)"
   ]
  },
  {
   "cell_type": "markdown",
   "metadata": {},
   "source": [
    "`Generalized linear models`(GLMs) are a flexible version of the linear regression model. While linear regression assumes the `dependent` variable is **normally distributed**, we can use a `GLM` to apply these same concepts to our **binary** dataset. For example `logistic regression` is a type of `GLM` that uses log transformation: $logit(Y(x_i))$."
   ]
  },
  {
   "cell_type": "code",
   "execution_count": null,
   "metadata": {},
   "outputs": [],
   "source": [
    "glm = sm.GLM(y,X,family=sm.families.Binomial()).fit(maxiter=1)"
   ]
  },
  {
   "cell_type": "code",
   "execution_count": null,
   "metadata": {},
   "outputs": [],
   "source": [
    "plot_gene('ENSG00000137563',expr_data,phenos,glm)"
   ]
  },
  {
   "cell_type": "code",
   "execution_count": null,
   "metadata": {},
   "outputs": [],
   "source": [
    "ols.predict(np.array([1,4.6]))"
   ]
  },
  {
   "cell_type": "code",
   "execution_count": null,
   "metadata": {},
   "outputs": [],
   "source": [
    "glm.predict(np.array([1,4.6]))"
   ]
  },
  {
   "cell_type": "markdown",
   "metadata": {},
   "source": [
    "<h3 style=\"color:red;\"> Exercise: Perform regression for all genes and save coeficients and p-values to a dataframe. </h3>"
   ]
  },
  {
   "cell_type": "markdown",
   "metadata": {},
   "source": [
    "There are a couple errors here, find them and fix them. **Use the error messages to guide you to the lines that need fixed!**"
   ]
  },
  {
   "cell_type": "markdown",
   "metadata": {},
   "source": [
    "**Hint:** When debugging code un a `for` loop it helps to look at just one element at a time. You can either do this with `print` statements or by subsetting data to one or a few examples `expr_data.index[:n]`."
   ]
  },
  {
   "cell_type": "code",
   "execution_count": null,
   "metadata": {},
   "outputs": [],
   "source": [
    "import tqdm"
   ]
  },
  {
   "cell_type": "code",
   "execution_count": null,
   "metadata": {
    "scrolled": true
   },
   "outputs": [],
   "source": [
    "coefs_df = pd.DataFrame(index=expr_data.index,columns=[\"coef\",\"p-value\"])\n",
    "# this is a dictionary, we will use it to hold our models so we can make plots later\n",
    "models = {}\n",
    "# Loop through genes\n",
    "for gene in tqdm.tqdm(expr_data.index):\n",
    "    X = expr_data.loc[:,gene].values\n",
    "    y = phenos.loc[\"outcome\",:].values\n",
    "    # Fit model\n",
    "    lr = sm.GLM(X,y,family=sm.families.Binomial()).fit(maxiter=1)\n",
    "    models[gene] = lr\n",
    "    # Extract coeficient and p-value for the gene\n",
    "    pvals = lr.pvalues\n",
    "    coefs = lr.params\n",
    "    coefs_df.loc[gene,:] = [coefs,pvals]"
   ]
  },
  {
   "cell_type": "code",
   "execution_count": null,
   "metadata": {},
   "outputs": [],
   "source": [
    "coefs_df = coefs_df.sort_values(by=\"p-value\")"
   ]
  },
  {
   "cell_type": "code",
   "execution_count": null,
   "metadata": {},
   "outputs": [],
   "source": [
    "coefs_df.head()"
   ]
  },
  {
   "cell_type": "markdown",
   "metadata": {},
   "source": [
    "### Interpret results"
   ]
  },
  {
   "cell_type": "code",
   "execution_count": null,
   "metadata": {},
   "outputs": [],
   "source": [
    "plot_gene(coefs_df.index[0],expr_data,phenos,models[coefs_df.index[0]])\n",
    "plt.show()"
   ]
  },
  {
   "cell_type": "code",
   "execution_count": null,
   "metadata": {},
   "outputs": [],
   "source": [
    "plot_gene(coefs_df.index[-1],expr_data,phenos,models[coefs_df.index[-1]])\n",
    "plt.show()"
   ]
  },
  {
   "cell_type": "markdown",
   "metadata": {},
   "source": [
    "<h3 style=\"color:red;\"> Exercise: Find the gene with the lowest p-value that is up-regulated in treatment cases. </h3>"
   ]
  },
  {
   "cell_type": "code",
   "execution_count": null,
   "metadata": {},
   "outputs": [],
   "source": []
  },
  {
   "cell_type": "code",
   "execution_count": null,
   "metadata": {},
   "outputs": [],
   "source": []
  },
  {
   "cell_type": "markdown",
   "metadata": {},
   "source": [
    "## Additional Materials <a class=\"anchor\" id=\"5\"></a>"
   ]
  },
  {
   "cell_type": "markdown",
   "metadata": {},
   "source": [
    "### Extra Challenges <a class=\"anchor\" id=\"5a\"></a>"
   ]
  },
  {
   "cell_type": "markdown",
   "metadata": {},
   "source": [
    "#### Correct for multiple testing with permutation tests"
   ]
  },
  {
   "cell_type": "code",
   "execution_count": null,
   "metadata": {},
   "outputs": [],
   "source": [
    "def perm_pval(X,y,true_coef,nperms=5000):\n",
    "    \"\"\"\n",
    "    Perform permutation testing by shuffling the phenotypes\n",
    "    \n",
    "    Parameters\n",
    "    ----------\n",
    "    X : np.array\n",
    "        Data matrix with features\n",
    "    y : np.array\n",
    "        Sample phenotypes\n",
    "    true_coef : int , optional\n",
    "        Number of times to permute your data\n",
    "    \n",
    "    Returns\n",
    "    -------\n",
    "    np.array\n",
    "        p-values from permutation test \n",
    "    \"\"\"\n",
    "    coef_rand = []\n",
    "    for i in range(nperms):\n",
    "        y_rand = np.random.permutation(y)\n",
    "        lr_rand = sm.GLM(y_rand,X,family=sm.families.Binomial())\n",
    "        lr_rand = lr_rand.fit(maxiter=1)\n",
    "        coef_rand.append(lr_rand.params[1])\n",
    "    pval = sum(np.absolute(coef_rand)>=np.absolute(true_coef))/nperms\n",
    "    return pval"
   ]
  },
  {
   "cell_type": "markdown",
   "metadata": {},
   "source": [
    "#### Determine which genes are not significant given the permutation p-value"
   ]
  },
  {
   "cell_type": "code",
   "execution_count": null,
   "metadata": {},
   "outputs": [],
   "source": [
    "coefs_df_mult = pd.DataFrame(index=expr_data.index,columns=[\"coef\",\"p-value\",\"perm_p\"])\n",
    "for gene in tqdm.tqdm(expr_data.index[:5]):\n",
    "    X = sm.add_constant(expr_data.loc[gene,:].values)\n",
    "    y = phenos.loc[:,\"outcome\"].values\n",
    "\n",
    "    lr = sm.GLM(y,X,family=sm.families.Binomial()).fit(maxiter=1)\n",
    "\n",
    "    pvals = lr.pvalues\n",
    "    coefs = lr.params\n",
    "    \n",
    "    permP = perm_pval(X,y,coefs[1])\n",
    "    coefs_df_mult.loc[gene,:] = [coefs[1],pvals[1],permP]"
   ]
  },
  {
   "cell_type": "code",
   "execution_count": null,
   "metadata": {},
   "outputs": [],
   "source": [
    "coefs_df_mult.head()"
   ]
  },
  {
   "cell_type": "markdown",
   "metadata": {},
   "source": [
    "### Extra Resources <a class=\"anchor\" id=\"5b\"></a>"
   ]
  },
  {
   "cell_type": "markdown",
   "metadata": {},
   "source": [
    "#### Additional flavors of regression:\n",
    "- `Regularization` \n",
    "    * A way to discourage model complexity ([bias-variance tradeoff](https://cdn-images-1.medium.com/max/1600/1*9hPX9pAO3jqLrzt0IE3JzA.png))\n",
    "    * Used to avoid over-fitting to training data \n",
    "    * [Ridge](https://scikit-learn.org/stable/modules/generated/sklearn.linear_model.Ridge.html) \n",
    ", [Lasso](https://scikit-learn.org/stable/modules/generated/sklearn.linear_model.Lasso.html)\n",
    ", [Elastic Net](https://scikit-learn.org/stable/modules/generated/sklearn.linear_model.ElasticNet.html)\n",
    "\n",
    "- `Cox models`\n",
    "    * Used to measure time-dependent effects\n",
    "    * [Python tutorial](https://www.statsmodels.org/stable/duration.html)\n",
    "\n",
    "- `Cross validation`\n",
    "    * This is something we do to ensure we have the best model parameters without overfitting to our data.\n",
    "    * [Further description and implementation](https://scikit-learn.org/stable/modules/cross_validation.html)"
   ]
  }
 ],
 "metadata": {
  "kernelspec": {
   "display_name": "Python 3",
   "language": "python",
   "name": "python3"
  },
  "language_info": {
   "codemirror_mode": {
    "name": "ipython",
    "version": 3
   },
   "file_extension": ".py",
   "mimetype": "text/x-python",
   "name": "python",
   "nbconvert_exporter": "python",
   "pygments_lexer": "ipython3",
   "version": "3.7.3"
  }
 },
 "nbformat": 4,
 "nbformat_minor": 2
}
