{
 "cells": [
  {
   "cell_type": "markdown",
   "metadata": {
    "colab_type": "text",
    "id": "z11TPA_2L3Kn"
   },
   "source": [
    "___\n",
    "# Lecture 2 - Data Manipulation, Pre-processing, and Descriptive Statistics\n",
    "___"
   ]
  },
  {
   "cell_type": "markdown",
   "metadata": {
    "colab_type": "text",
    "id": "UZ-BJEuUL3Kq"
   },
   "source": [
    "## Review"
   ]
  },
  {
   "cell_type": "markdown",
   "metadata": {
    "colab_type": "text",
    "id": "M5oX_gwKL3Ks"
   },
   "source": [
    "* We can subset pandas dataframes using `.iloc` and `.loc`\n",
    "* You can access columns in dataframes by `df.column1` or `df[\"column1\"]`\n",
    "* We can handle NaNs in our data with `.dropna()` or `.fillna()`"
   ]
  },
  {
   "cell_type": "markdown",
   "metadata": {
    "colab_type": "text",
    "id": "9LY7xRONL3Kv"
   },
   "source": [
    "## Lesson Overview"
   ]
  },
  {
   "cell_type": "markdown",
   "metadata": {
    "colab_type": "text",
    "id": "P5yisiGyL3Kx"
   },
   "source": [
    "Today you will learn how to use perform basic data QC with dimensionality reduction and conditional filtering. We will also get more practice with data visualization."
   ]
  },
  {
   "cell_type": "markdown",
   "metadata": {
    "colab_type": "text",
    "id": "Oiw5Kou6L3Ky"
   },
   "source": [
    "## Lesson Outline"
   ]
  },
  {
   "cell_type": "markdown",
   "metadata": {
    "colab_type": "text",
    "id": "SyUJQX3zL3K0"
   },
   "source": [
    "#### (1) [Load data with pandas](#1)\n",
    "#### (2) [Data cleaning](#2)\n",
    "* [Sample quality control with PCA](#2a)\n",
    "* [Gene quality control](#2b)\n",
    "* [Write QC'd data to new file](#2c)\n",
    "\n",
    "#### (3) [More data visualization](#3)\n",
    "#### (4) [Extra challenges](#4)\n",
    "#### (5) [Extra Resources](#5)"
   ]
  },
  {
   "cell_type": "markdown",
   "metadata": {
    "colab_type": "text",
    "id": "Y7wW_HSbL3K1"
   },
   "source": [
    "## 0 - Setup and data introduction"
   ]
  },
  {
   "cell_type": "code",
   "execution_count": 1,
   "metadata": {
    "colab": {},
    "colab_type": "code",
    "id": "FWS345f9L3K2"
   },
   "outputs": [],
   "source": [
    "import pandas as pd\n",
    "import numpy as np\n",
    "import matplotlib.pyplot as plt\n",
    "from matplotlib.lines import Line2D"
   ]
  },
  {
   "cell_type": "markdown",
   "metadata": {
    "colab_type": "text",
    "id": "gvqJbmSVL3K7"
   },
   "source": [
    "### RNAseq Dataset"
   ]
  },
  {
   "cell_type": "markdown",
   "metadata": {
    "colab_type": "text",
    "id": "I7XcsxoiL3K8"
   },
   "source": [
    "There are two datasets here, the first is the sample sheet (doe - design of experiment) and the second is the abundance file.  The structure of the abundance table is the first two columns are ensembl gene ID and gene symbols, and the remaining columns are samples which correspond to the sample column in the doe file. The values are ln(TPM). \n",
    "\n",
    "The RNAseq data from liver cells grown in a plate and sampled at baseline (day 0) or split into 3 groups and sampled at day 5:  BSA (control), or FFA_LPS (treatment 1) or TMC (treatment 2). Both of these treatments are design to induce the integrated stress response pathway in the liver cell. "
   ]
  },
  {
   "cell_type": "markdown",
   "metadata": {
    "colab_type": "text",
    "id": "u_Yp-hemL3K9"
   },
   "source": [
    "## 1 - Load data with `Pandas` <a class=\"anchor\" id=\"1\"></a>"
   ]
  },
  {
   "cell_type": "code",
   "execution_count": 75,
   "metadata": {
    "colab": {},
    "colab_type": "code",
    "id": "mcrE908RL3K-"
   },
   "outputs": [
    {
     "data": {
      "text/html": [
       "<div>\n",
       "<style scoped>\n",
       "    .dataframe tbody tr th:only-of-type {\n",
       "        vertical-align: middle;\n",
       "    }\n",
       "\n",
       "    .dataframe tbody tr th {\n",
       "        vertical-align: top;\n",
       "    }\n",
       "\n",
       "    .dataframe thead th {\n",
       "        text-align: right;\n",
       "    }\n",
       "</style>\n",
       "<table border=\"1\" class=\"dataframe\">\n",
       "  <thead>\n",
       "    <tr style=\"text-align: right;\">\n",
       "      <th></th>\n",
       "      <th>gene_id</th>\n",
       "      <th>symbol</th>\n",
       "      <th>baseline_1</th>\n",
       "      <th>baseline_2</th>\n",
       "      <th>baseline_3</th>\n",
       "      <th>DE.BSA.DMSO.day5_2</th>\n",
       "      <th>DE.BSA.DMSO.day5_3</th>\n",
       "      <th>DE.FFA.LPS.day5_1</th>\n",
       "      <th>DE.FFA.LPS.day5_2</th>\n",
       "      <th>DE.FFA.LPS.day5_3</th>\n",
       "      <th>DE.TMC.day5_1</th>\n",
       "      <th>DE.TMC.day5_2</th>\n",
       "      <th>DE.TMC.day5_3</th>\n",
       "    </tr>\n",
       "  </thead>\n",
       "  <tbody>\n",
       "    <tr>\n",
       "      <th>0</th>\n",
       "      <td>ENSG00000248155</td>\n",
       "      <td>WI2-89927D4.1</td>\n",
       "      <td>0.496074</td>\n",
       "      <td>0.496074</td>\n",
       "      <td>0.496074</td>\n",
       "      <td>-0.627376</td>\n",
       "      <td>-0.627376</td>\n",
       "      <td>-4.61901</td>\n",
       "      <td>0.279975</td>\n",
       "      <td>-4.616600</td>\n",
       "      <td>-0.490349</td>\n",
       "      <td>-4.298650</td>\n",
       "      <td>-4.748550</td>\n",
       "    </tr>\n",
       "    <tr>\n",
       "      <th>1</th>\n",
       "      <td>ENSG00000274584</td>\n",
       "      <td>RP11-819M15.2</td>\n",
       "      <td>0.496074</td>\n",
       "      <td>0.496074</td>\n",
       "      <td>0.496074</td>\n",
       "      <td>-0.627376</td>\n",
       "      <td>-0.627376</td>\n",
       "      <td>-4.61901</td>\n",
       "      <td>-4.714800</td>\n",
       "      <td>-4.616600</td>\n",
       "      <td>-4.720340</td>\n",
       "      <td>-4.298650</td>\n",
       "      <td>-4.748550</td>\n",
       "    </tr>\n",
       "    <tr>\n",
       "      <th>2</th>\n",
       "      <td>ENSG00000228826</td>\n",
       "      <td>RP11-344P13.4</td>\n",
       "      <td>0.496074</td>\n",
       "      <td>0.496074</td>\n",
       "      <td>0.496074</td>\n",
       "      <td>-0.627376</td>\n",
       "      <td>-0.627376</td>\n",
       "      <td>-4.61901</td>\n",
       "      <td>-0.727078</td>\n",
       "      <td>-4.616600</td>\n",
       "      <td>-0.665645</td>\n",
       "      <td>-0.203773</td>\n",
       "      <td>-0.799714</td>\n",
       "    </tr>\n",
       "    <tr>\n",
       "      <th>3</th>\n",
       "      <td>ENSG00000278847</td>\n",
       "      <td>RP11-414C23.1</td>\n",
       "      <td>0.496074</td>\n",
       "      <td>0.496074</td>\n",
       "      <td>0.496074</td>\n",
       "      <td>-0.627376</td>\n",
       "      <td>-0.627376</td>\n",
       "      <td>-4.61901</td>\n",
       "      <td>-4.714800</td>\n",
       "      <td>-4.616600</td>\n",
       "      <td>-4.720340</td>\n",
       "      <td>-4.298650</td>\n",
       "      <td>-0.356121</td>\n",
       "    </tr>\n",
       "    <tr>\n",
       "      <th>4</th>\n",
       "      <td>ENSG00000272389</td>\n",
       "      <td>CTC-487M23.7</td>\n",
       "      <td>0.496074</td>\n",
       "      <td>0.496074</td>\n",
       "      <td>0.496074</td>\n",
       "      <td>-0.627376</td>\n",
       "      <td>-0.627376</td>\n",
       "      <td>-4.61901</td>\n",
       "      <td>-4.714800</td>\n",
       "      <td>-0.865132</td>\n",
       "      <td>-4.720340</td>\n",
       "      <td>-4.298650</td>\n",
       "      <td>-4.748550</td>\n",
       "    </tr>\n",
       "  </tbody>\n",
       "</table>\n",
       "</div>"
      ],
      "text/plain": [
       "           gene_id         symbol  baseline_1  baseline_2  baseline_3  \\\n",
       "0  ENSG00000248155  WI2-89927D4.1    0.496074    0.496074    0.496074   \n",
       "1  ENSG00000274584  RP11-819M15.2    0.496074    0.496074    0.496074   \n",
       "2  ENSG00000228826  RP11-344P13.4    0.496074    0.496074    0.496074   \n",
       "3  ENSG00000278847  RP11-414C23.1    0.496074    0.496074    0.496074   \n",
       "4  ENSG00000272389   CTC-487M23.7    0.496074    0.496074    0.496074   \n",
       "\n",
       "   DE.BSA.DMSO.day5_2  DE.BSA.DMSO.day5_3  DE.FFA.LPS.day5_1  \\\n",
       "0           -0.627376           -0.627376           -4.61901   \n",
       "1           -0.627376           -0.627376           -4.61901   \n",
       "2           -0.627376           -0.627376           -4.61901   \n",
       "3           -0.627376           -0.627376           -4.61901   \n",
       "4           -0.627376           -0.627376           -4.61901   \n",
       "\n",
       "   DE.FFA.LPS.day5_2  DE.FFA.LPS.day5_3  DE.TMC.day5_1  DE.TMC.day5_2  \\\n",
       "0           0.279975          -4.616600      -0.490349      -4.298650   \n",
       "1          -4.714800          -4.616600      -4.720340      -4.298650   \n",
       "2          -0.727078          -4.616600      -0.665645      -0.203773   \n",
       "3          -4.714800          -4.616600      -4.720340      -4.298650   \n",
       "4          -4.714800          -0.865132      -4.720340      -4.298650   \n",
       "\n",
       "   DE.TMC.day5_3  \n",
       "0      -4.748550  \n",
       "1      -4.748550  \n",
       "2      -0.799714  \n",
       "3      -0.356121  \n",
       "4      -4.748550  "
      ]
     },
     "execution_count": 75,
     "metadata": {},
     "output_type": "execute_result"
    }
   ],
   "source": [
    "pd.read_csv(\"inSphero.abundance.table_edit190410.csv\").head()"
   ]
  },
  {
   "cell_type": "markdown",
   "metadata": {
    "colab_type": "text",
    "id": "gtTuEh9WL3LB"
   },
   "source": [
    "Lets set the `gene_id` column to the index. "
   ]
  },
  {
   "cell_type": "code",
   "execution_count": 76,
   "metadata": {
    "colab": {},
    "colab_type": "code",
    "id": "W1b7JHzaL3LB"
   },
   "outputs": [],
   "source": [
    "expr_data_w_meta = pd.read_csv(\"inSphero.abundance.table_edit190410.csv\", index_col=0)"
   ]
  },
  {
   "cell_type": "code",
   "execution_count": 77,
   "metadata": {
    "colab": {},
    "colab_type": "code",
    "id": "tHyGWCaKL3LE"
   },
   "outputs": [
    {
     "data": {
      "text/html": [
       "<div>\n",
       "<style scoped>\n",
       "    .dataframe tbody tr th:only-of-type {\n",
       "        vertical-align: middle;\n",
       "    }\n",
       "\n",
       "    .dataframe tbody tr th {\n",
       "        vertical-align: top;\n",
       "    }\n",
       "\n",
       "    .dataframe thead th {\n",
       "        text-align: right;\n",
       "    }\n",
       "</style>\n",
       "<table border=\"1\" class=\"dataframe\">\n",
       "  <thead>\n",
       "    <tr style=\"text-align: right;\">\n",
       "      <th></th>\n",
       "      <th>symbol</th>\n",
       "      <th>baseline_1</th>\n",
       "      <th>baseline_2</th>\n",
       "      <th>baseline_3</th>\n",
       "      <th>DE.BSA.DMSO.day5_2</th>\n",
       "      <th>DE.BSA.DMSO.day5_3</th>\n",
       "      <th>DE.FFA.LPS.day5_1</th>\n",
       "      <th>DE.FFA.LPS.day5_2</th>\n",
       "      <th>DE.FFA.LPS.day5_3</th>\n",
       "      <th>DE.TMC.day5_1</th>\n",
       "      <th>DE.TMC.day5_2</th>\n",
       "      <th>DE.TMC.day5_3</th>\n",
       "    </tr>\n",
       "    <tr>\n",
       "      <th>gene_id</th>\n",
       "      <th></th>\n",
       "      <th></th>\n",
       "      <th></th>\n",
       "      <th></th>\n",
       "      <th></th>\n",
       "      <th></th>\n",
       "      <th></th>\n",
       "      <th></th>\n",
       "      <th></th>\n",
       "      <th></th>\n",
       "      <th></th>\n",
       "      <th></th>\n",
       "    </tr>\n",
       "  </thead>\n",
       "  <tbody>\n",
       "    <tr>\n",
       "      <th>ENSG00000248155</th>\n",
       "      <td>WI2-89927D4.1</td>\n",
       "      <td>0.496074</td>\n",
       "      <td>0.496074</td>\n",
       "      <td>0.496074</td>\n",
       "      <td>-0.627376</td>\n",
       "      <td>-0.627376</td>\n",
       "      <td>-4.61901</td>\n",
       "      <td>0.279975</td>\n",
       "      <td>-4.616600</td>\n",
       "      <td>-0.490349</td>\n",
       "      <td>-4.298650</td>\n",
       "      <td>-4.748550</td>\n",
       "    </tr>\n",
       "    <tr>\n",
       "      <th>ENSG00000274584</th>\n",
       "      <td>RP11-819M15.2</td>\n",
       "      <td>0.496074</td>\n",
       "      <td>0.496074</td>\n",
       "      <td>0.496074</td>\n",
       "      <td>-0.627376</td>\n",
       "      <td>-0.627376</td>\n",
       "      <td>-4.61901</td>\n",
       "      <td>-4.714800</td>\n",
       "      <td>-4.616600</td>\n",
       "      <td>-4.720340</td>\n",
       "      <td>-4.298650</td>\n",
       "      <td>-4.748550</td>\n",
       "    </tr>\n",
       "    <tr>\n",
       "      <th>ENSG00000228826</th>\n",
       "      <td>RP11-344P13.4</td>\n",
       "      <td>0.496074</td>\n",
       "      <td>0.496074</td>\n",
       "      <td>0.496074</td>\n",
       "      <td>-0.627376</td>\n",
       "      <td>-0.627376</td>\n",
       "      <td>-4.61901</td>\n",
       "      <td>-0.727078</td>\n",
       "      <td>-4.616600</td>\n",
       "      <td>-0.665645</td>\n",
       "      <td>-0.203773</td>\n",
       "      <td>-0.799714</td>\n",
       "    </tr>\n",
       "    <tr>\n",
       "      <th>ENSG00000278847</th>\n",
       "      <td>RP11-414C23.1</td>\n",
       "      <td>0.496074</td>\n",
       "      <td>0.496074</td>\n",
       "      <td>0.496074</td>\n",
       "      <td>-0.627376</td>\n",
       "      <td>-0.627376</td>\n",
       "      <td>-4.61901</td>\n",
       "      <td>-4.714800</td>\n",
       "      <td>-4.616600</td>\n",
       "      <td>-4.720340</td>\n",
       "      <td>-4.298650</td>\n",
       "      <td>-0.356121</td>\n",
       "    </tr>\n",
       "    <tr>\n",
       "      <th>ENSG00000272389</th>\n",
       "      <td>CTC-487M23.7</td>\n",
       "      <td>0.496074</td>\n",
       "      <td>0.496074</td>\n",
       "      <td>0.496074</td>\n",
       "      <td>-0.627376</td>\n",
       "      <td>-0.627376</td>\n",
       "      <td>-4.61901</td>\n",
       "      <td>-4.714800</td>\n",
       "      <td>-0.865132</td>\n",
       "      <td>-4.720340</td>\n",
       "      <td>-4.298650</td>\n",
       "      <td>-4.748550</td>\n",
       "    </tr>\n",
       "  </tbody>\n",
       "</table>\n",
       "</div>"
      ],
      "text/plain": [
       "                        symbol  baseline_1  baseline_2  baseline_3  \\\n",
       "gene_id                                                              \n",
       "ENSG00000248155  WI2-89927D4.1    0.496074    0.496074    0.496074   \n",
       "ENSG00000274584  RP11-819M15.2    0.496074    0.496074    0.496074   \n",
       "ENSG00000228826  RP11-344P13.4    0.496074    0.496074    0.496074   \n",
       "ENSG00000278847  RP11-414C23.1    0.496074    0.496074    0.496074   \n",
       "ENSG00000272389   CTC-487M23.7    0.496074    0.496074    0.496074   \n",
       "\n",
       "                 DE.BSA.DMSO.day5_2  DE.BSA.DMSO.day5_3  DE.FFA.LPS.day5_1  \\\n",
       "gene_id                                                                      \n",
       "ENSG00000248155           -0.627376           -0.627376           -4.61901   \n",
       "ENSG00000274584           -0.627376           -0.627376           -4.61901   \n",
       "ENSG00000228826           -0.627376           -0.627376           -4.61901   \n",
       "ENSG00000278847           -0.627376           -0.627376           -4.61901   \n",
       "ENSG00000272389           -0.627376           -0.627376           -4.61901   \n",
       "\n",
       "                 DE.FFA.LPS.day5_2  DE.FFA.LPS.day5_3  DE.TMC.day5_1  \\\n",
       "gene_id                                                                \n",
       "ENSG00000248155           0.279975          -4.616600      -0.490349   \n",
       "ENSG00000274584          -4.714800          -4.616600      -4.720340   \n",
       "ENSG00000228826          -0.727078          -4.616600      -0.665645   \n",
       "ENSG00000278847          -4.714800          -4.616600      -4.720340   \n",
       "ENSG00000272389          -4.714800          -0.865132      -4.720340   \n",
       "\n",
       "                 DE.TMC.day5_2  DE.TMC.day5_3  \n",
       "gene_id                                        \n",
       "ENSG00000248155      -4.298650      -4.748550  \n",
       "ENSG00000274584      -4.298650      -4.748550  \n",
       "ENSG00000228826      -0.203773      -0.799714  \n",
       "ENSG00000278847      -4.298650      -0.356121  \n",
       "ENSG00000272389      -4.298650      -4.748550  "
      ]
     },
     "execution_count": 77,
     "metadata": {},
     "output_type": "execute_result"
    }
   ],
   "source": [
    "expr_data_w_meta.head()"
   ]
  },
  {
   "cell_type": "markdown",
   "metadata": {
    "colab_type": "text",
    "id": "SvvDDRFML3LG"
   },
   "source": [
    "The data has mixed types (`strings` and `floats`). Sometimes it is best to separate these two from each other so you can easily do stats on the `floats`!"
   ]
  },
  {
   "cell_type": "markdown",
   "metadata": {
    "colab_type": "text",
    "id": "uoUSuAAJL3LH"
   },
   "source": [
    "### Notice that we have replicates!"
   ]
  },
  {
   "cell_type": "code",
   "execution_count": 6,
   "metadata": {
    "colab": {},
    "colab_type": "code",
    "id": "3ckZnvgKL3LI"
   },
   "outputs": [
    {
     "data": {
      "image/png": "[encoded data removed]",
      "text/plain": [
       "<Figure size 432x288 with 1 Axes>"
      ]
     },
     "metadata": {
      "needs_background": "light"
     },
     "output_type": "display_data"
    }
   ],
   "source": [
    "plt.scatter(expr_data_w_meta[\"baseline_1\"],expr_data_w_meta[\"baseline_2\"])\n",
    "plt.xlabel(\"Baseline Rep1\",fontsize=14)\n",
    "plt.ylabel(\"Baseline Rep2\",fontsize=14)\n",
    "plt.show()"
   ]
  },
  {
   "cell_type": "code",
   "execution_count": 79,
   "metadata": {
    "colab": {},
    "colab_type": "code",
    "id": "UBOJ0sXaL3LK"
   },
   "outputs": [],
   "source": [
    "from scipy import stats"
   ]
  },
  {
   "cell_type": "code",
   "execution_count": 80,
   "metadata": {
    "colab": {},
    "colab_type": "code",
    "id": "YDLoKhzAL3LM"
   },
   "outputs": [
    {
     "data": {
      "text/plain": [
       "(0.9961517923245065, 0.0)"
      ]
     },
     "execution_count": 80,
     "metadata": {},
     "output_type": "execute_result"
    }
   ],
   "source": [
    "corr = stats.pearsonr(expr_data_w_meta[\"baseline_1\"],expr_data_w_meta[\"baseline_2\"])\n",
    "corr"
   ]
  },
  {
   "cell_type": "code",
   "execution_count": 81,
   "metadata": {
    "colab": {},
    "colab_type": "code",
    "id": "gsdyRhxuL3LO"
   },
   "outputs": [
    {
     "data": {
      "image/png": "[encoded data removed]",
      "text/plain": [
       "<Figure size 432x288 with 1 Axes>"
      ]
     },
     "metadata": {
      "needs_background": "light"
     },
     "output_type": "display_data"
    }
   ],
   "source": [
    "plt.scatter(expr_data_w_meta[\"baseline_1\"],expr_data_w_meta[\"DE.TMC.day5_1\"])\n",
    "corr = stats.pearsonr(expr_data_w_meta[\"baseline_1\"],expr_data_w_meta[\"DE.TMC.day5_1\"])\n",
    "\n",
    "# We can add the correlation to the title\n",
    "plt.title(\"Pearsons Corr: {}\".format(np.round(corr[0],3)),fontsize=16)\n",
    "\n",
    "plt.xlabel(\"Baseline Rep1\",fontsize=14)\n",
    "plt.ylabel(\"TMC Day5 Rep1\",fontsize=14)\n",
    "plt.show()"
   ]
  },
  {
   "cell_type": "markdown",
   "metadata": {
    "colab_type": "text",
    "id": "klXoZLCqL3LP"
   },
   "source": [
    "<h3 style=\"color:red;\"> Exercise: Split dataframe into two parts </h3>"
   ]
  },
  {
   "cell_type": "markdown",
   "metadata": {
    "colab_type": "text",
    "id": "DgMP57VtL3LQ"
   },
   "source": [
    "Subset `expr_data_w_meta` to contain only the column `symbol` and save to new variable called `annots` \n",
    "\n",
    "**Hint:** Remember `loc` from *Lesson1*"
   ]
  },
  {
   "cell_type": "code",
   "execution_count": 82,
   "metadata": {
    "colab": {},
    "colab_type": "code",
    "id": "Day-rl7XL3LQ"
   },
   "outputs": [],
   "source": [
    "annots = expr_data_w_meta.loc[:,[\"symbol\"]]"
   ]
  },
  {
   "cell_type": "markdown",
   "metadata": {
    "colab_type": "text",
    "id": "WWWoCJPML3LS"
   },
   "source": [
    "To get only the floats we have to subset `expr_data_w_meta`  to the remainder of the data. Use the dataframes `drop` function to exclude column `symbol` from the data. Set to new variable called `expr_data`."
   ]
  },
  {
   "cell_type": "code",
   "execution_count": 83,
   "metadata": {
    "colab": {},
    "colab_type": "code",
    "id": "W0HGutORL3LS"
   },
   "outputs": [
    {
     "data": {
      "text/plain": [
       "Index(['symbol', 'baseline_1', 'baseline_2', 'baseline_3',\n",
       "       'DE.BSA.DMSO.day5_2', 'DE.BSA.DMSO.day5_3', 'DE.FFA.LPS.day5_1',\n",
       "       'DE.FFA.LPS.day5_2', 'DE.FFA.LPS.day5_3', 'DE.TMC.day5_1',\n",
       "       'DE.TMC.day5_2', 'DE.TMC.day5_3'],\n",
       "      dtype='object')"
      ]
     },
     "execution_count": 83,
     "metadata": {},
     "output_type": "execute_result"
    }
   ],
   "source": [
    "expr_data = expr_data_w_meta.drop(\"symbol\",axis=1)\n",
    "expr_data.head()\n",
    "expr_data_w_meta.columns"
   ]
  },
  {
   "cell_type": "markdown",
   "metadata": {
    "colab_type": "text",
    "id": "uIlGZXi2L3LT"
   },
   "source": [
    "Lets visualize the final results with `head`"
   ]
  },
  {
   "cell_type": "code",
   "execution_count": 32,
   "metadata": {
    "colab": {},
    "colab_type": "code",
    "id": "bawnw36WL3LT"
   },
   "outputs": [
    {
     "data": {
      "text/html": [
       "<div>\n",
       "<style scoped>\n",
       "    .dataframe tbody tr th:only-of-type {\n",
       "        vertical-align: middle;\n",
       "    }\n",
       "\n",
       "    .dataframe tbody tr th {\n",
       "        vertical-align: top;\n",
       "    }\n",
       "\n",
       "    .dataframe thead th {\n",
       "        text-align: right;\n",
       "    }\n",
       "</style>\n",
       "<table border=\"1\" class=\"dataframe\">\n",
       "  <thead>\n",
       "    <tr style=\"text-align: right;\">\n",
       "      <th></th>\n",
       "      <th>symbol</th>\n",
       "    </tr>\n",
       "    <tr>\n",
       "      <th>gene_id</th>\n",
       "      <th></th>\n",
       "    </tr>\n",
       "  </thead>\n",
       "  <tbody>\n",
       "    <tr>\n",
       "      <th>ENSG00000248155</th>\n",
       "      <td>WI2-89927D4.1</td>\n",
       "    </tr>\n",
       "    <tr>\n",
       "      <th>ENSG00000274584</th>\n",
       "      <td>RP11-819M15.2</td>\n",
       "    </tr>\n",
       "    <tr>\n",
       "      <th>ENSG00000228826</th>\n",
       "      <td>RP11-344P13.4</td>\n",
       "    </tr>\n",
       "    <tr>\n",
       "      <th>ENSG00000278847</th>\n",
       "      <td>RP11-414C23.1</td>\n",
       "    </tr>\n",
       "    <tr>\n",
       "      <th>ENSG00000272389</th>\n",
       "      <td>CTC-487M23.7</td>\n",
       "    </tr>\n",
       "  </tbody>\n",
       "</table>\n",
       "</div>"
      ],
      "text/plain": [
       "                        symbol\n",
       "gene_id                       \n",
       "ENSG00000248155  WI2-89927D4.1\n",
       "ENSG00000274584  RP11-819M15.2\n",
       "ENSG00000228826  RP11-344P13.4\n",
       "ENSG00000278847  RP11-414C23.1\n",
       "ENSG00000272389   CTC-487M23.7"
      ]
     },
     "execution_count": 32,
     "metadata": {},
     "output_type": "execute_result"
    }
   ],
   "source": [
    "annots.head()"
   ]
  },
  {
   "cell_type": "code",
   "execution_count": 84,
   "metadata": {
    "colab": {},
    "colab_type": "code",
    "id": "FjhQo3H-L3LV"
   },
   "outputs": [
    {
     "data": {
      "text/plain": [
       "(21519, 11)"
      ]
     },
     "execution_count": 84,
     "metadata": {},
     "output_type": "execute_result"
    }
   ],
   "source": [
    "expr_data.head()\n",
    "expr_data.shape"
   ]
  },
  {
   "cell_type": "markdown",
   "metadata": {
    "colab_type": "text",
    "id": "nLRjwBFSL3LX"
   },
   "source": [
    "## 2 - Data cleaning <a class=\"anchor\" id=\"2\"></a>"
   ]
  },
  {
   "cell_type": "markdown",
   "metadata": {
    "colab_type": "text",
    "id": "_Ch7gKbEL3LX"
   },
   "source": [
    "### Visualize hi-dimentional data and perform sample QC with principal components analysis (`PCA`) <a class=\"anchor\" id=\"2a\"></a>"
   ]
  },
  {
   "cell_type": "markdown",
   "metadata": {
    "colab_type": "text",
    "id": "vLOGmIjGL3LY"
   },
   "source": [
    "`PCA` is a method for performing *unsupervised* dimensionality reduction."
   ]
  },
  {
   "cell_type": "markdown",
   "metadata": {
    "colab_type": "text",
    "id": "BZNPk3byL3LZ"
   },
   "source": [
    "![](https://i.stack.imgur.com/G7Gkv.png)"
   ]
  },
  {
   "cell_type": "markdown",
   "metadata": {
    "colab_type": "text",
    "id": "XJJW24-yL3La"
   },
   "source": [
    "`Sklearn` is a powerful *Python* library that contains functions for machine learning. To learn more check out the [documentation](https://scikit-learn.org/stable/modules/unsupervised_reduction.html)."
   ]
  },
  {
   "cell_type": "code",
   "execution_count": 85,
   "metadata": {
    "colab": {},
    "colab_type": "code",
    "id": "1UBWMmAOL3Lb"
   },
   "outputs": [],
   "source": [
    "from sklearn.decomposition import PCA"
   ]
  },
  {
   "cell_type": "markdown",
   "metadata": {
    "colab_type": "text",
    "id": "yODX9ZDkL3Ld"
   },
   "source": [
    "Lets get the **first two** `principal components` (PCs) of our dataset"
   ]
  },
  {
   "cell_type": "code",
   "execution_count": 87,
   "metadata": {
    "colab": {},
    "colab_type": "code",
    "id": "NwRAY29vL3Le"
   },
   "outputs": [],
   "source": [
    "pca = PCA(n_components=2)\n",
    "data_pcs = pca.fit_transform(expr_data.T)"
   ]
  },
  {
   "cell_type": "code",
   "execution_count": 39,
   "metadata": {
    "colab": {},
    "colab_type": "code",
    "id": "wVC7gUocL3Lf"
   },
   "outputs": [
    {
     "data": {
      "text/plain": [
       "(11, 2)"
      ]
     },
     "execution_count": 39,
     "metadata": {},
     "output_type": "execute_result"
    }
   ],
   "source": [
    "data_pcs.shape"
   ]
  },
  {
   "cell_type": "code",
   "execution_count": 88,
   "metadata": {
    "colab": {},
    "colab_type": "code",
    "id": "d-blsEpkL3Lg"
   },
   "outputs": [
    {
     "data": {
      "text/plain": [
       "array([[ 141.62858564,   18.02693589],\n",
       "       [ 141.85090663,   16.62440468],\n",
       "       [ 141.87920854,   16.70108084],\n",
       "       [  64.74972037,    1.14917163],\n",
       "       [  64.39188228,    1.87949261],\n",
       "       [ -72.85627333,  -83.79353834],\n",
       "       [ -65.70112788,  -81.71419568],\n",
       "       [ -66.78381542,  -84.85722676],\n",
       "       [-104.59842214,   39.74377233],\n",
       "       [-139.67643893,  117.05826415],\n",
       "       [-104.88422576,   39.18183866]])"
      ]
     },
     "execution_count": 88,
     "metadata": {},
     "output_type": "execute_result"
    }
   ],
   "source": [
    "data_pcs"
   ]
  },
  {
   "cell_type": "markdown",
   "metadata": {
    "colab_type": "text",
    "id": "nn2XTMsqL3Lh"
   },
   "source": [
    "<h3 style=\"color:red;\"> What happens if we don't transpose our data? </h3>"
   ]
  },
  {
   "cell_type": "markdown",
   "metadata": {
    "colab_type": "text",
    "id": "FM6g5E2zL3Lh"
   },
   "source": [
    "What is the `variance` explained by these `PCs`?"
   ]
  },
  {
   "cell_type": "code",
   "execution_count": 43,
   "metadata": {
    "colab": {},
    "colab_type": "code",
    "id": "ywe7YlgIL3Li"
   },
   "outputs": [
    {
     "data": {
      "text/plain": [
       "array([0.57178728, 0.1777357 ])"
      ]
     },
     "execution_count": 43,
     "metadata": {},
     "output_type": "execute_result"
    }
   ],
   "source": [
    "pca.explained_variance_ratio_"
   ]
  },
  {
   "cell_type": "markdown",
   "metadata": {
    "colab_type": "text",
    "id": "zBaQ9Mh-L3Lj"
   },
   "source": [
    "<h3 style=\"color:red;\"> Exercise: Convert numpy array into a pandas dataframe </h3>"
   ]
  },
  {
   "cell_type": "markdown",
   "metadata": {
    "colab_type": "text",
    "id": "3R3IH7v8L3Lj"
   },
   "source": [
    "Use the function `pd.DataFrame()` and remember the three most important components of dataframes are the `data`, `columns`, `index`"
   ]
  },
  {
   "cell_type": "markdown",
   "metadata": {
    "colab_type": "text",
    "id": "9QBv3avML3Lk"
   },
   "source": [
    "Set this to a variable named `data_pcs_df` "
   ]
  },
  {
   "cell_type": "code",
   "execution_count": 94,
   "metadata": {
    "colab": {},
    "colab_type": "code",
    "id": "okAeNlMHL3Lk"
   },
   "outputs": [
    {
     "data": {
      "text/html": [
       "<div>\n",
       "<style scoped>\n",
       "    .dataframe tbody tr th:only-of-type {\n",
       "        vertical-align: middle;\n",
       "    }\n",
       "\n",
       "    .dataframe tbody tr th {\n",
       "        vertical-align: top;\n",
       "    }\n",
       "\n",
       "    .dataframe thead th {\n",
       "        text-align: right;\n",
       "    }\n",
       "</style>\n",
       "<table border=\"1\" class=\"dataframe\">\n",
       "  <thead>\n",
       "    <tr style=\"text-align: right;\">\n",
       "      <th></th>\n",
       "      <th>PC1</th>\n",
       "      <th>PC2</th>\n",
       "    </tr>\n",
       "  </thead>\n",
       "  <tbody>\n",
       "    <tr>\n",
       "      <th>baseline_1</th>\n",
       "      <td>141.628586</td>\n",
       "      <td>18.026936</td>\n",
       "    </tr>\n",
       "    <tr>\n",
       "      <th>baseline_2</th>\n",
       "      <td>141.850907</td>\n",
       "      <td>16.624405</td>\n",
       "    </tr>\n",
       "    <tr>\n",
       "      <th>baseline_3</th>\n",
       "      <td>141.879209</td>\n",
       "      <td>16.701081</td>\n",
       "    </tr>\n",
       "    <tr>\n",
       "      <th>DE.BSA.DMSO.day5_2</th>\n",
       "      <td>64.749720</td>\n",
       "      <td>1.149172</td>\n",
       "    </tr>\n",
       "    <tr>\n",
       "      <th>DE.BSA.DMSO.day5_3</th>\n",
       "      <td>64.391882</td>\n",
       "      <td>1.879493</td>\n",
       "    </tr>\n",
       "  </tbody>\n",
       "</table>\n",
       "</div>"
      ],
      "text/plain": [
       "                           PC1        PC2\n",
       "baseline_1          141.628586  18.026936\n",
       "baseline_2          141.850907  16.624405\n",
       "baseline_3          141.879209  16.701081\n",
       "DE.BSA.DMSO.day5_2   64.749720   1.149172\n",
       "DE.BSA.DMSO.day5_3   64.391882   1.879493"
      ]
     },
     "execution_count": 94,
     "metadata": {},
     "output_type": "execute_result"
    }
   ],
   "source": [
    "data_pcs_df = pd.DataFrame(data_pcs,index=expr_data.columns,columns=[\"PC1\",\"PC2\"])\n",
    "data_pcs_df.head()"
   ]
  },
  {
   "cell_type": "markdown",
   "metadata": {
    "colab_type": "text",
    "id": "ujlyo4BNL3Ll"
   },
   "source": [
    "Now that our data is only 2D lets plot it using `plt.scatter()`"
   ]
  },
  {
   "cell_type": "code",
   "execution_count": 50,
   "metadata": {
    "colab": {},
    "colab_type": "code",
    "id": "1yeLJh9vL3Ll"
   },
   "outputs": [
    {
     "data": {
      "image/png": "[encoded data removed]",
      "text/plain": [
       "<Figure size 432x288 with 1 Axes>"
      ]
     },
     "metadata": {
      "needs_background": "light"
     },
     "output_type": "display_data"
    }
   ],
   "source": [
    "plt.scatter(x=data_pcs_df.PC1, y=data_pcs_df.PC2)\n",
    "plt.xlabel(\"PC1\",fontsize=14)\n",
    "plt.ylabel(\"PC2\",fontsize=14)\n",
    "plt.title(\"PCA of Samples\",fontsize=18)\n",
    "plt.show()"
   ]
  },
  {
   "cell_type": "markdown",
   "metadata": {
    "colab_type": "text",
    "id": "bQVju6bCL3Lm"
   },
   "source": [
    "Lets make this plot better by adding colors for each condition, a legend, and changing the markers!"
   ]
  },
  {
   "cell_type": "code",
   "execution_count": 51,
   "metadata": {
    "colab": {},
    "colab_type": "code",
    "id": "gMOM5F21L3Lm"
   },
   "outputs": [
    {
     "name": "stdout",
     "output_type": "stream",
     "text": [
      "baseline_1\n",
      "baseline_2\n",
      "baseline_3\n",
      "DE.BSA.DMSO.day5_2\n",
      "DE.BSA.DMSO.day5_3\n",
      "DE.FFA.LPS.day5_1\n",
      "DE.FFA.LPS.day5_2\n",
      "DE.FFA.LPS.day5_3\n",
      "DE.TMC.day5_1\n",
      "DE.TMC.day5_2\n",
      "DE.TMC.day5_3\n"
     ]
    }
   ],
   "source": [
    "print(\"\\n\".join(data_pcs_df.index))"
   ]
  },
  {
   "cell_type": "code",
   "execution_count": 54,
   "metadata": {
    "colab": {},
    "colab_type": "code",
    "id": "bryreMKVL3Ln"
   },
   "outputs": [
    {
     "data": {
      "text/plain": [
       "['blue',\n",
       " 'blue',\n",
       " 'blue',\n",
       " 'purple',\n",
       " 'purple',\n",
       " 'red',\n",
       " 'red',\n",
       " 'red',\n",
       " 'green',\n",
       " 'green',\n",
       " 'green']"
      ]
     },
     "execution_count": 54,
     "metadata": {},
     "output_type": "execute_result"
    }
   ],
   "source": [
    "colors = [\"blue\"]*3+[\"purple\"]*2+[\"red\"]*3+[\"green\"]*3\n",
    "colors"
   ]
  },
  {
   "cell_type": "code",
   "execution_count": 93,
   "metadata": {
    "colab": {},
    "colab_type": "code",
    "id": "ZmSQH5TaL3Lp",
    "scrolled": true
   },
   "outputs": [
    {
     "data": {
      "image/png": "[encoded data removed]",
      "text/plain": [
       "<Figure size 432x288 with 1 Axes>"
      ]
     },
     "metadata": {
      "needs_background": "light"
     },
     "output_type": "display_data"
    }
   ],
   "source": [
    "plt.scatter(x=data_pcs_df.PC1, y=data_pcs_df.PC2,\n",
    "            s=200, marker=\"o\",\n",
    "            facecolors=\"none\", edgecolors = colors)\n",
    "\n",
    "# Create a custom legend\n",
    "legend_markers = [Line2D([0],[0],marker='o',color='blue',linewidth=0),\n",
    "                 Line2D([0],[0],marker='o',color='purple',linewidth=0),\n",
    "                 Line2D([0],[0],marker='o',color='red',linewidth=0),\n",
    "                 Line2D([0],[0],marker='o',color='green',linewidth=0)]\n",
    "\n",
    "plt.legend(legend_markers,[\"Baseline\", \"DMSO Day5\",\"LPS Day5\",\"TMC Day5\"])\n",
    "plt.xlabel(\"PC1\",fontsize=14)\n",
    "plt.ylabel(\"PC2\",fontsize=14)\n",
    "plt.title(\"PCA of Samples\",fontsize=18)\n",
    "plt.show()"
   ]
  },
  {
   "cell_type": "markdown",
   "metadata": {
    "colab_type": "text",
    "id": "Dg_RBmuDL3Lq"
   },
   "source": [
    "Looks like we have an **outlier** in our data. Since all other replicates align closely maybe we should remove it."
   ]
  },
  {
   "cell_type": "markdown",
   "metadata": {
    "colab_type": "text",
    "id": "LnJTuDflL3Lr"
   },
   "source": [
    "<H3 style=\"color:red;\"> Exercise: Figure out which data point is the outlier and drop it from our expression data </H3>"
   ]
  },
  {
   "cell_type": "markdown",
   "metadata": {
    "colab_type": "text",
    "id": "WiU0mGrzL3Lr"
   },
   "source": [
    "Hint: Look at `data_pcs_df`! We can remove a sample with `drop()` like we did before... \n",
    "\n",
    "We should also set this to a new variable named `expr_data_no_outlier`."
   ]
  },
  {
   "cell_type": "code",
   "execution_count": 108,
   "metadata": {
    "colab": {},
    "colab_type": "code",
    "id": "2ZrcOKlLL3Ls"
   },
   "outputs": [],
   "source": [
    "expr_data_no_outlier = expr_data.drop(\"DE.TMC.day5_2\",axis=1)"
   ]
  },
  {
   "cell_type": "markdown",
   "metadata": {
    "colab_type": "text",
    "id": "0feOCDyYL3Ls"
   },
   "source": [
    "### Filter genes with low expression <a class=\"anchor\" id=\"2b\"></a>"
   ]
  },
  {
   "cell_type": "code",
   "execution_count": 109,
   "metadata": {
    "colab": {},
    "colab_type": "code",
    "id": "Sp2kBzUvL3Lt"
   },
   "outputs": [
    {
     "data": {
      "text/plain": [
       "gene_id\n",
       "ENSG00000248155    False\n",
       "ENSG00000274584    False\n",
       "ENSG00000228826    False\n",
       "ENSG00000278847    False\n",
       "ENSG00000272389    False\n",
       "ENSG00000254539    False\n",
       "ENSG00000243779    False\n",
       "ENSG00000233870    False\n",
       "ENSG00000253227    False\n",
       "ENSG00000271324    False\n",
       "ENSG00000267699    False\n",
       "ENSG00000272854    False\n",
       "ENSG00000267119    False\n",
       "ENSG00000224594    False\n",
       "ENSG00000267082    False\n",
       "ENSG00000273597    False\n",
       "ENSG00000224011    False\n",
       "ENSG00000258904    False\n",
       "ENSG00000279361    False\n",
       "ENSG00000213791    False\n",
       "ENSG00000225107    False\n",
       "ENSG00000227581    False\n",
       "ENSG00000233942    False\n",
       "ENSG00000276523    False\n",
       "ENSG00000265962    False\n",
       "ENSG00000250202    False\n",
       "ENSG00000271882    False\n",
       "ENSG00000274364    False\n",
       "ENSG00000258789    False\n",
       "ENSG00000274259    False\n",
       "                   ...  \n",
       "ENSG00000247596     True\n",
       "ENSG00000108298     True\n",
       "ENSG00000196230     True\n",
       "ENSG00000145391     True\n",
       "ENSG00000265808     True\n",
       "ENSG00000146834     True\n",
       "ENSG00000077549     True\n",
       "ENSG00000197858     True\n",
       "ENSG00000179950     True\n",
       "ENSG00000135404     True\n",
       "ENSG00000136240     True\n",
       "ENSG00000116044     True\n",
       "ENSG00000112977     True\n",
       "ENSG00000182087     True\n",
       "ENSG00000138768     True\n",
       "ENSG00000126524     True\n",
       "ENSG00000254999     True\n",
       "ENSG00000072778     True\n",
       "ENSG00000182473     True\n",
       "ENSG00000185236     True\n",
       "ENSG00000130309     True\n",
       "ENSG00000105402     True\n",
       "ENSG00000172757     True\n",
       "ENSG00000213281     True\n",
       "ENSG00000197111     True\n",
       "ENSG00000147649     True\n",
       "ENSG00000134153     True\n",
       "ENSG00000173660     True\n",
       "ENSG00000213614     True\n",
       "ENSG00000106682     True\n",
       "Length: 21519, dtype: bool"
      ]
     },
     "execution_count": 109,
     "metadata": {},
     "output_type": "execute_result"
    }
   ],
   "source": [
    "cond = (np.exp(expr_data_no_outlier.iloc[:,:5])>1).all(axis=1)\n",
    "cond"
   ]
  },
  {
   "cell_type": "code",
   "execution_count": 110,
   "metadata": {
    "colab": {},
    "colab_type": "code",
    "id": "DtFzUfshL3Lu"
   },
   "outputs": [
    {
     "data": {
      "text/html": [
       "<div>\n",
       "<style scoped>\n",
       "    .dataframe tbody tr th:only-of-type {\n",
       "        vertical-align: middle;\n",
       "    }\n",
       "\n",
       "    .dataframe tbody tr th {\n",
       "        vertical-align: top;\n",
       "    }\n",
       "\n",
       "    .dataframe thead th {\n",
       "        text-align: right;\n",
       "    }\n",
       "</style>\n",
       "<table border=\"1\" class=\"dataframe\">\n",
       "  <thead>\n",
       "    <tr style=\"text-align: right;\">\n",
       "      <th></th>\n",
       "      <th>baseline_1</th>\n",
       "      <th>baseline_2</th>\n",
       "      <th>baseline_3</th>\n",
       "      <th>DE.BSA.DMSO.day5_2</th>\n",
       "      <th>DE.BSA.DMSO.day5_3</th>\n",
       "      <th>DE.FFA.LPS.day5_1</th>\n",
       "      <th>DE.FFA.LPS.day5_2</th>\n",
       "      <th>DE.FFA.LPS.day5_3</th>\n",
       "      <th>DE.TMC.day5_1</th>\n",
       "      <th>DE.TMC.day5_3</th>\n",
       "    </tr>\n",
       "    <tr>\n",
       "      <th>gene_id</th>\n",
       "      <th></th>\n",
       "      <th></th>\n",
       "      <th></th>\n",
       "      <th></th>\n",
       "      <th></th>\n",
       "      <th></th>\n",
       "      <th></th>\n",
       "      <th></th>\n",
       "      <th></th>\n",
       "      <th></th>\n",
       "    </tr>\n",
       "  </thead>\n",
       "  <tbody>\n",
       "    <tr>\n",
       "      <th>ENSG00000241362</th>\n",
       "      <td>0.496074</td>\n",
       "      <td>0.496074</td>\n",
       "      <td>0.496074</td>\n",
       "      <td>0.142103</td>\n",
       "      <td>0.146415</td>\n",
       "      <td>0.576008</td>\n",
       "      <td>-4.714800</td>\n",
       "      <td>-0.620935</td>\n",
       "      <td>-0.658037</td>\n",
       "      <td>-0.83727</td>\n",
       "    </tr>\n",
       "    <tr>\n",
       "      <th>ENSG00000260571</th>\n",
       "      <td>0.496074</td>\n",
       "      <td>0.496074</td>\n",
       "      <td>0.496074</td>\n",
       "      <td>0.356200</td>\n",
       "      <td>0.170867</td>\n",
       "      <td>-4.619010</td>\n",
       "      <td>-0.799552</td>\n",
       "      <td>-1.214110</td>\n",
       "      <td>-4.720340</td>\n",
       "      <td>-4.74855</td>\n",
       "    </tr>\n",
       "    <tr>\n",
       "      <th>ENSG00000205693</th>\n",
       "      <td>0.496074</td>\n",
       "      <td>0.496074</td>\n",
       "      <td>0.496074</td>\n",
       "      <td>0.785815</td>\n",
       "      <td>0.555146</td>\n",
       "      <td>-1.177180</td>\n",
       "      <td>-0.810972</td>\n",
       "      <td>-1.240710</td>\n",
       "      <td>-2.458950</td>\n",
       "      <td>-2.53389</td>\n",
       "    </tr>\n",
       "    <tr>\n",
       "      <th>ENSG00000239775</th>\n",
       "      <td>0.496074</td>\n",
       "      <td>0.496074</td>\n",
       "      <td>0.496074</td>\n",
       "      <td>0.884659</td>\n",
       "      <td>1.117250</td>\n",
       "      <td>1.063380</td>\n",
       "      <td>1.278630</td>\n",
       "      <td>0.920766</td>\n",
       "      <td>0.939043</td>\n",
       "      <td>1.02483</td>\n",
       "    </tr>\n",
       "    <tr>\n",
       "      <th>ENSG00000259444</th>\n",
       "      <td>0.496074</td>\n",
       "      <td>0.496074</td>\n",
       "      <td>0.496074</td>\n",
       "      <td>0.127550</td>\n",
       "      <td>0.493531</td>\n",
       "      <td>0.462849</td>\n",
       "      <td>-1.113550</td>\n",
       "      <td>-0.270737</td>\n",
       "      <td>-4.720340</td>\n",
       "      <td>-1.22999</td>\n",
       "    </tr>\n",
       "  </tbody>\n",
       "</table>\n",
       "</div>"
      ],
      "text/plain": [
       "                 baseline_1  baseline_2  baseline_3  DE.BSA.DMSO.day5_2  \\\n",
       "gene_id                                                                   \n",
       "ENSG00000241362    0.496074    0.496074    0.496074            0.142103   \n",
       "ENSG00000260571    0.496074    0.496074    0.496074            0.356200   \n",
       "ENSG00000205693    0.496074    0.496074    0.496074            0.785815   \n",
       "ENSG00000239775    0.496074    0.496074    0.496074            0.884659   \n",
       "ENSG00000259444    0.496074    0.496074    0.496074            0.127550   \n",
       "\n",
       "                 DE.BSA.DMSO.day5_3  DE.FFA.LPS.day5_1  DE.FFA.LPS.day5_2  \\\n",
       "gene_id                                                                     \n",
       "ENSG00000241362            0.146415           0.576008          -4.714800   \n",
       "ENSG00000260571            0.170867          -4.619010          -0.799552   \n",
       "ENSG00000205693            0.555146          -1.177180          -0.810972   \n",
       "ENSG00000239775            1.117250           1.063380           1.278630   \n",
       "ENSG00000259444            0.493531           0.462849          -1.113550   \n",
       "\n",
       "                 DE.FFA.LPS.day5_3  DE.TMC.day5_1  DE.TMC.day5_3  \n",
       "gene_id                                                           \n",
       "ENSG00000241362          -0.620935      -0.658037       -0.83727  \n",
       "ENSG00000260571          -1.214110      -4.720340       -4.74855  \n",
       "ENSG00000205693          -1.240710      -2.458950       -2.53389  \n",
       "ENSG00000239775           0.920766       0.939043        1.02483  \n",
       "ENSG00000259444          -0.270737      -4.720340       -1.22999  "
      ]
     },
     "execution_count": 110,
     "metadata": {},
     "output_type": "execute_result"
    }
   ],
   "source": [
    "expr_data_no_outlier_filter = expr_data_no_outlier.loc[cond,:]\n",
    "expr_data_no_outlier_filter.head()"
   ]
  },
  {
   "cell_type": "code",
   "execution_count": 111,
   "metadata": {
    "colab": {},
    "colab_type": "code",
    "id": "bTNwObv6L3Lu"
   },
   "outputs": [
    {
     "data": {
      "text/plain": [
       "(14271, 10)"
      ]
     },
     "execution_count": 111,
     "metadata": {},
     "output_type": "execute_result"
    }
   ],
   "source": [
    "expr_data_no_outlier_filter.shape"
   ]
  },
  {
   "cell_type": "markdown",
   "metadata": {
    "colab_type": "text",
    "id": "-hJJ63ERL3Lv"
   },
   "source": [
    "<h3 style=\"color:red;\"> What do you think will happen to our PCs if we were to re-calculate with the subset of genes? </h3>"
   ]
  },
  {
   "cell_type": "markdown",
   "metadata": {
    "colab_type": "text",
    "id": "9TaO6nNyL3Lv"
   },
   "source": [
    "### Write filtered data to new file"
   ]
  },
  {
   "cell_type": "markdown",
   "metadata": {
    "colab_type": "text",
    "id": "IjUNX9g1L3Lv"
   },
   "source": [
    "<h3 style=\"color:red;\"> Exercise: Re-join the gene annotations with the now filtered data </h3>"
   ]
  },
  {
   "cell_type": "markdown",
   "metadata": {
    "colab_type": "text",
    "id": "kBDEvP7mL3Lv"
   },
   "source": [
    "Join `annots` with `expr_data_no_outlier_filter`"
   ]
  },
  {
   "cell_type": "markdown",
   "metadata": {
    "colab_type": "text",
    "id": "7-dQf3XmL3Lw"
   },
   "source": [
    "**Hint:** We don't want to end up with `NaNs` in our dataset so think of how we can avoid them! Also, the order of columns depends on which dataframe you join on... \n",
    "\n",
    "**Example:** df1, df2\n",
    "\n",
    "If we use `df1.join(df2)` the columns for df1 will come first"
   ]
  },
  {
   "cell_type": "markdown",
   "metadata": {
    "colab_type": "text",
    "id": "ycibA_2uL3Lw"
   },
   "source": [
    "Set the output to a variable named `expr_data_no_outlier_filter_w_meta`"
   ]
  },
  {
   "cell_type": "code",
   "execution_count": 112,
   "metadata": {
    "colab": {},
    "colab_type": "code",
    "id": "oHtp0HGNL3Lw"
   },
   "outputs": [],
   "source": [
    "expr_data_no_outlier_filter_w_meta = annots.join(expr_data_no_outlier_filter,how='right',).dropna()"
   ]
  },
  {
   "cell_type": "markdown",
   "metadata": {
    "colab_type": "text",
    "id": "2vTBq2mdL3Lx"
   },
   "source": [
    "Now lets write the data to a new file using *pandas* `to_csv`"
   ]
  },
  {
   "cell_type": "code",
   "execution_count": 113,
   "metadata": {
    "colab": {},
    "colab_type": "code",
    "id": "HfAg--_rL3Lx"
   },
   "outputs": [],
   "source": [
    "expr_data_no_outlier_filter_w_meta.to_csv(\"inSphero.abundance.table_edit190410_filtered.csv\")"
   ]
  },
  {
   "cell_type": "markdown",
   "metadata": {
    "colab_type": "text",
    "id": "EhpEKIdFL3Ly"
   },
   "source": [
    "## 3 - More data visualization <a class=\"anchor\" id=\"3\"></a>"
   ]
  },
  {
   "cell_type": "markdown",
   "metadata": {
    "colab_type": "text",
    "id": "g-T9TXgUL3Ly"
   },
   "source": [
    "### Create boxplot of gene expression across conditions"
   ]
  },
  {
   "cell_type": "code",
   "execution_count": 114,
   "metadata": {
    "colab": {},
    "colab_type": "code",
    "id": "9-yE6367L3Ly"
   },
   "outputs": [
    {
     "data": {
      "image/png": "[encoded data removed]",
      "text/plain": [
       "<Figure size 432x288 with 1 Axes>"
      ]
     },
     "metadata": {
      "needs_background": "light"
     },
     "output_type": "display_data"
    }
   ],
   "source": [
    "plt.boxplot(x=expr_data_no_outlier_filter.values, \n",
    "            labels=expr_data_no_outlier_filter.columns)\n",
    "plt.xticks(rotation=90)\n",
    "plt.ylabel(\"ln(tpm)\",fontsize=14)\n",
    "plt.show()"
   ]
  },
  {
   "cell_type": "markdown",
   "metadata": {
    "colab_type": "text",
    "id": "SpZaKD0gL3Lz"
   },
   "source": [
    "### Plot histogram of average expression values"
   ]
  },
  {
   "cell_type": "code",
   "execution_count": 115,
   "metadata": {
    "colab": {},
    "colab_type": "code",
    "id": "cW6jsfFdL3L0"
   },
   "outputs": [
    {
     "data": {
      "image/png": "[encoded data removed]",
      "text/plain": [
       "<Figure size 432x288 with 1 Axes>"
      ]
     },
     "metadata": {
      "needs_background": "light"
     },
     "output_type": "display_data"
    }
   ],
   "source": [
    "plt.hist(expr_data_no_outlier_filter.mean(axis=1),bins=100,)\n",
    "plt.show()"
   ]
  },
  {
   "cell_type": "markdown",
   "metadata": {
    "colab_type": "text",
    "id": "uRU7k1seL3L1"
   },
   "source": [
    "## 4 - Extra challenges <a class=\"anchor\" id=\"4\"></a>"
   ]
  },
  {
   "cell_type": "markdown",
   "metadata": {
    "colab_type": "text",
    "id": "W5LYBYEHL3L1"
   },
   "source": [
    "### Extract the top 10 PCs and make a bar plot of the variance explained"
   ]
  },
  {
   "cell_type": "code",
   "execution_count": 123,
   "metadata": {
    "colab": {},
    "colab_type": "code",
    "id": "qlJbmaPML3L1"
   },
   "outputs": [
    {
     "name": "stdout",
     "output_type": "stream",
     "text": [
      "[0.57178728 0.1777357  0.08683496 0.04788049 0.04616285 0.04415977\n",
      " 0.02137181 0.00222481 0.00104227 0.00080006]\n"
     ]
    }
   ],
   "source": [
    "pca = PCA(n_components=10)\n",
    "\n",
    "data_pcs = pca.fit_transform(expr_data.T)\n",
    "\n",
    "\n",
    "data_pcs_df = pd.DataFrame(data=data_pcs, \n",
    "                           columns=np.arange(1,11), \n",
    "                           index=expr_data.columns)\n",
    "print(pca.explained_variance_ratio_)\n",
    "\n"
   ]
  },
  {
   "cell_type": "code",
   "execution_count": 124,
   "metadata": {
    "colab": {},
    "colab_type": "code",
    "id": "DMx8pxHzL3L2"
   },
   "outputs": [
    {
     "data": {
      "image/png": "[encoded data removed]",
      "text/plain": [
       "<Figure size 432x288 with 1 Axes>"
      ]
     },
     "metadata": {
      "needs_background": "light"
     },
     "output_type": "display_data"
    }
   ],
   "source": [
    "plt.bar(x = [\"PC\"+ str(x) for x in range(1,11,1)], height = pca.explained_variance_ratio_)\n",
    "plt.xlabel(\"PCs\", fontsize=14)\n",
    "plt.ylabel(\"Variance Explained\", fontsize=14)\n",
    "plt.show()"
   ]
  },
  {
   "cell_type": "markdown",
   "metadata": {
    "colab_type": "text",
    "id": "9o21XmKrL3L3"
   },
   "source": [
    "### Plot PC2 vs PC3 or additional PCs"
   ]
  },
  {
   "cell_type": "code",
   "execution_count": 131,
   "metadata": {},
   "outputs": [
    {
     "data": {
      "text/plain": [
       "baseline_1             18.026936\n",
       "baseline_2             16.624405\n",
       "baseline_3             16.701081\n",
       "DE.BSA.DMSO.day5_2      1.149172\n",
       "DE.BSA.DMSO.day5_3      1.879493\n",
       "DE.FFA.LPS.day5_1     -83.793538\n",
       "DE.FFA.LPS.day5_2     -81.714196\n",
       "DE.FFA.LPS.day5_3     -84.857227\n",
       "DE.TMC.day5_1          39.743772\n",
       "DE.TMC.day5_2         117.058264\n",
       "DE.TMC.day5_3          39.181839\n",
       "Name: 2, dtype: float64"
      ]
     },
     "execution_count": 131,
     "metadata": {},
     "output_type": "execute_result"
    }
   ],
   "source": [
    "data_pcs_df.loc[:,2]"
   ]
  },
  {
   "cell_type": "code",
   "execution_count": 133,
   "metadata": {
    "colab": {},
    "colab_type": "code",
    "id": "eDMWuZTwL3L3"
   },
   "outputs": [
    {
     "data": {
      "image/png": "[encoded data removed]",
      "text/plain": [
       "<Figure size 432x288 with 1 Axes>"
      ]
     },
     "metadata": {
      "needs_background": "light"
     },
     "output_type": "display_data"
    }
   ],
   "source": [
    "\n",
    "plt.scatter(x=data_pcs_df.loc[:,2], y=data_pcs_df.loc[:,3],\n",
    "            s=200, marker=\"o\",\n",
    "            facecolors=\"none\", edgecolors = colors)\n",
    "\n",
    "legend_markers = [Line2D([0],[0],marker='o',color='blue',linewidth=0),\n",
    "                 Line2D([0],[0],marker='o',color='purple',linewidth=0),\n",
    "                 Line2D([0],[0],marker='o',color='red',linewidth=0),\n",
    "                 Line2D([0],[0],marker='o',color='green',linewidth=0)]\n",
    "\n",
    "plt.legend(legend_markers,[\"Baseline\", \"DMSO Day5\",\"LPS Day5\",\"TMC Day5\"])\n",
    "plt.xlabel(\"PC 2\")\n",
    "plt.ylabel(\"PC 3\")\n",
    "plt.title(\"PCA of Samples\")\n",
    "plt.show()"
   ]
  },
  {
   "cell_type": "markdown",
   "metadata": {
    "colab_type": "text",
    "id": "QvxxHR_fL3L4"
   },
   "source": [
    "## 5 - Extra Resources <a class=\"anchor\" id=\"5\"></a>"
   ]
  },
  {
   "cell_type": "markdown",
   "metadata": {
    "colab_type": "text",
    "id": "PUigJCnYL3L4"
   },
   "source": [
    "- [PCA with python](https://towardsdatascience.com/pca-using-python-scikit-learn-e653f8989e60)\n",
    "- [Plot enhancement with **seaborn**](https://seaborn.pydata.org)"
   ]
  }
 ],
 "metadata": {
  "colab": {
   "name": "IntermediatePy-Lesson2-Student.ipynb",
   "provenance": [],
   "version": "0.3.2"
  },
  "kernelspec": {
   "display_name": "Python 3",
   "language": "python",
   "name": "python3"
  },
  "language_info": {
   "codemirror_mode": {
    "name": "ipython",
    "version": 3
   },
   "file_extension": ".py",
   "mimetype": "text/x-python",
   "name": "python",
   "nbconvert_exporter": "python",
   "pygments_lexer": "ipython3",
   "version": "3.7.3"
  }
 },
 "nbformat": 4,
 "nbformat_minor": 1
}
