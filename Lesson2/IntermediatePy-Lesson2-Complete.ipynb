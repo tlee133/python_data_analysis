{
 "cells": [
  {
   "cell_type": "markdown",
   "metadata": {
    "colab_type": "text",
    "id": "z11TPA_2L3Kn"
   },
   "source": [
    "___\n",
    "# Lecture 2 - Data Manipulation, Pre-processing, and Descriptive Statistics\n",
    "___"
   ]
  },
  {
   "cell_type": "markdown",
   "metadata": {
    "colab_type": "text",
    "id": "UZ-BJEuUL3Kq"
   },
   "source": [
    "## Review"
   ]
  },
  {
   "cell_type": "markdown",
   "metadata": {
    "colab_type": "text",
    "id": "M5oX_gwKL3Ks"
   },
   "source": [
    "* We can subset pandas dataframes using `.iloc` and `.loc`\n",
    "* You can access columns in dataframes by `df.column1` or `df[\"column1\"]`\n",
    "* We can handle NaNs in our data with `.dropna()` or `.fillna()`"
   ]
  },
  {
   "cell_type": "markdown",
   "metadata": {
    "colab_type": "text",
    "id": "9LY7xRONL3Kv"
   },
   "source": [
    "## Lesson Overview"
   ]
  },
  {
   "cell_type": "markdown",
   "metadata": {
    "colab_type": "text",
    "id": "P5yisiGyL3Kx"
   },
   "source": [
    "Today you will learn how to use perform basic data QC with dimensionality reduction and conditional filtering. We will also get more practice with data visualization."
   ]
  },
  {
   "cell_type": "markdown",
   "metadata": {
    "colab_type": "text",
    "id": "Oiw5Kou6L3Ky"
   },
   "source": [
    "## Lesson Outline"
   ]
  },
  {
   "cell_type": "markdown",
   "metadata": {
    "colab_type": "text",
    "id": "SyUJQX3zL3K0"
   },
   "source": [
    "#### (1) [Load data with pandas](#1)\n",
    "#### (2) [Data cleaning](#2)\n",
    "* [Sample quality control with PCA](#2a)\n",
    "* [Gene quality control](#2b)\n",
    "* [Write QC'd data to new file](#2c)\n",
    "\n",
    "#### (3) [More data visualization](#3)\n",
    "#### (4) [Extra challenges](#4)\n",
    "#### (5) [Extra Resources](#5)"
   ]
  },
  {
   "cell_type": "markdown",
   "metadata": {
    "colab_type": "text",
    "id": "Y7wW_HSbL3K1"
   },
   "source": [
    "## 0 - Setup and data introduction"
   ]
  },
  {
   "cell_type": "code",
   "execution_count": 1,
   "metadata": {
    "colab": {},
    "colab_type": "code",
    "id": "FWS345f9L3K2"
   },
   "outputs": [],
   "source": [
    "import pandas as pd\n",
    "import numpy as np\n",
    "import matplotlib.pyplot as plt\n",
    "from matplotlib.lines import Line2D"
   ]
  },
  {
   "cell_type": "markdown",
   "metadata": {
    "colab_type": "text",
    "id": "gvqJbmSVL3K7"
   },
   "source": [
    "### RNAseq Dataset"
   ]
  },
  {
   "cell_type": "markdown",
   "metadata": {
    "colab_type": "text",
    "id": "I7XcsxoiL3K8"
   },
   "source": [
    "There are two datasets here, the first is the sample sheet (doe - design of experiment) and the second is the abundance file.  The structure of the abundance table is the first two columns are ensembl gene ID and gene symbols, and the remaining columns are samples which correspond to the sample column in the doe file. The values are ln(TPM). \n",
    "\n",
    "The RNAseq data from liver cells grown in a plate and sampled at baseline (day 0) or split into 3 groups and sampled at day 5:  BSA (control), or FFA_LPS (treatment 1) or TMC (treatment 2). Both of these treatments are design to induce the integrated stress response pathway in the liver cell. "
   ]
  },
  {
   "cell_type": "markdown",
   "metadata": {
    "colab_type": "text",
    "id": "u_Yp-hemL3K9"
   },
   "source": [
    "## 1 - Load data with `Pandas` <a class=\"anchor\" id=\"1\"></a>"
   ]
  },
  {
   "cell_type": "code",
   "execution_count": 2,
   "metadata": {
    "colab": {},
    "colab_type": "code",
    "id": "mcrE908RL3K-"
   },
   "outputs": [
    {
     "data": {
      "text/html": [
       "<div>\n",
       "<style scoped>\n",
       "    .dataframe tbody tr th:only-of-type {\n",
       "        vertical-align: middle;\n",
       "    }\n",
       "\n",
       "    .dataframe tbody tr th {\n",
       "        vertical-align: top;\n",
       "    }\n",
       "\n",
       "    .dataframe thead th {\n",
       "        text-align: right;\n",
       "    }\n",
       "</style>\n",
       "<table border=\"1\" class=\"dataframe\">\n",
       "  <thead>\n",
       "    <tr style=\"text-align: right;\">\n",
       "      <th></th>\n",
       "      <th>gene_id</th>\n",
       "      <th>symbol</th>\n",
       "      <th>baseline_1</th>\n",
       "      <th>baseline_2</th>\n",
       "      <th>baseline_3</th>\n",
       "      <th>DE.BSA.DMSO.day5_2</th>\n",
       "      <th>DE.BSA.DMSO.day5_3</th>\n",
       "      <th>DE.FFA.LPS.day5_1</th>\n",
       "      <th>DE.FFA.LPS.day5_2</th>\n",
       "      <th>DE.FFA.LPS.day5_3</th>\n",
       "      <th>DE.TMC.day5_1</th>\n",
       "      <th>DE.TMC.day5_2</th>\n",
       "      <th>DE.TMC.day5_3</th>\n",
       "    </tr>\n",
       "  </thead>\n",
       "  <tbody>\n",
       "    <tr>\n",
       "      <th>0</th>\n",
       "      <td>ENSG00000248155</td>\n",
       "      <td>WI2-89927D4.1</td>\n",
       "      <td>0.496074</td>\n",
       "      <td>0.496074</td>\n",
       "      <td>0.496074</td>\n",
       "      <td>-0.627376</td>\n",
       "      <td>-0.627376</td>\n",
       "      <td>-4.61901</td>\n",
       "      <td>0.279975</td>\n",
       "      <td>-4.616600</td>\n",
       "      <td>-0.490349</td>\n",
       "      <td>-4.298650</td>\n",
       "      <td>-4.748550</td>\n",
       "    </tr>\n",
       "    <tr>\n",
       "      <th>1</th>\n",
       "      <td>ENSG00000274584</td>\n",
       "      <td>RP11-819M15.2</td>\n",
       "      <td>0.496074</td>\n",
       "      <td>0.496074</td>\n",
       "      <td>0.496074</td>\n",
       "      <td>-0.627376</td>\n",
       "      <td>-0.627376</td>\n",
       "      <td>-4.61901</td>\n",
       "      <td>-4.714800</td>\n",
       "      <td>-4.616600</td>\n",
       "      <td>-4.720340</td>\n",
       "      <td>-4.298650</td>\n",
       "      <td>-4.748550</td>\n",
       "    </tr>\n",
       "    <tr>\n",
       "      <th>2</th>\n",
       "      <td>ENSG00000228826</td>\n",
       "      <td>RP11-344P13.4</td>\n",
       "      <td>0.496074</td>\n",
       "      <td>0.496074</td>\n",
       "      <td>0.496074</td>\n",
       "      <td>-0.627376</td>\n",
       "      <td>-0.627376</td>\n",
       "      <td>-4.61901</td>\n",
       "      <td>-0.727078</td>\n",
       "      <td>-4.616600</td>\n",
       "      <td>-0.665645</td>\n",
       "      <td>-0.203773</td>\n",
       "      <td>-0.799714</td>\n",
       "    </tr>\n",
       "    <tr>\n",
       "      <th>3</th>\n",
       "      <td>ENSG00000278847</td>\n",
       "      <td>RP11-414C23.1</td>\n",
       "      <td>0.496074</td>\n",
       "      <td>0.496074</td>\n",
       "      <td>0.496074</td>\n",
       "      <td>-0.627376</td>\n",
       "      <td>-0.627376</td>\n",
       "      <td>-4.61901</td>\n",
       "      <td>-4.714800</td>\n",
       "      <td>-4.616600</td>\n",
       "      <td>-4.720340</td>\n",
       "      <td>-4.298650</td>\n",
       "      <td>-0.356121</td>\n",
       "    </tr>\n",
       "    <tr>\n",
       "      <th>4</th>\n",
       "      <td>ENSG00000272389</td>\n",
       "      <td>CTC-487M23.7</td>\n",
       "      <td>0.496074</td>\n",
       "      <td>0.496074</td>\n",
       "      <td>0.496074</td>\n",
       "      <td>-0.627376</td>\n",
       "      <td>-0.627376</td>\n",
       "      <td>-4.61901</td>\n",
       "      <td>-4.714800</td>\n",
       "      <td>-0.865132</td>\n",
       "      <td>-4.720340</td>\n",
       "      <td>-4.298650</td>\n",
       "      <td>-4.748550</td>\n",
       "    </tr>\n",
       "  </tbody>\n",
       "</table>\n",
       "</div>"
      ],
      "text/plain": [
       "           gene_id         symbol  baseline_1  baseline_2  baseline_3  \\\n",
       "0  ENSG00000248155  WI2-89927D4.1    0.496074    0.496074    0.496074   \n",
       "1  ENSG00000274584  RP11-819M15.2    0.496074    0.496074    0.496074   \n",
       "2  ENSG00000228826  RP11-344P13.4    0.496074    0.496074    0.496074   \n",
       "3  ENSG00000278847  RP11-414C23.1    0.496074    0.496074    0.496074   \n",
       "4  ENSG00000272389   CTC-487M23.7    0.496074    0.496074    0.496074   \n",
       "\n",
       "   DE.BSA.DMSO.day5_2  DE.BSA.DMSO.day5_3  DE.FFA.LPS.day5_1  \\\n",
       "0           -0.627376           -0.627376           -4.61901   \n",
       "1           -0.627376           -0.627376           -4.61901   \n",
       "2           -0.627376           -0.627376           -4.61901   \n",
       "3           -0.627376           -0.627376           -4.61901   \n",
       "4           -0.627376           -0.627376           -4.61901   \n",
       "\n",
       "   DE.FFA.LPS.day5_2  DE.FFA.LPS.day5_3  DE.TMC.day5_1  DE.TMC.day5_2  \\\n",
       "0           0.279975          -4.616600      -0.490349      -4.298650   \n",
       "1          -4.714800          -4.616600      -4.720340      -4.298650   \n",
       "2          -0.727078          -4.616600      -0.665645      -0.203773   \n",
       "3          -4.714800          -4.616600      -4.720340      -4.298650   \n",
       "4          -4.714800          -0.865132      -4.720340      -4.298650   \n",
       "\n",
       "   DE.TMC.day5_3  \n",
       "0      -4.748550  \n",
       "1      -4.748550  \n",
       "2      -0.799714  \n",
       "3      -0.356121  \n",
       "4      -4.748550  "
      ]
     },
     "execution_count": 2,
     "metadata": {},
     "output_type": "execute_result"
    }
   ],
   "source": [
    "pd.read_csv(\"inSphero.abundance.table_edit190410.csv\").head()"
   ]
  },
  {
   "cell_type": "markdown",
   "metadata": {
    "colab_type": "text",
    "id": "gtTuEh9WL3LB"
   },
   "source": [
    "Lets set the `gene_id` column to the index. "
   ]
  },
  {
   "cell_type": "code",
   "execution_count": 4,
   "metadata": {
    "colab": {},
    "colab_type": "code",
    "id": "W1b7JHzaL3LB"
   },
   "outputs": [],
   "source": [
    "expr_data_w_meta = pd.read_csv(\"inSphero.abundance.table_edit190410.csv\", index_col=0)"
   ]
  },
  {
   "cell_type": "code",
   "execution_count": 5,
   "metadata": {
    "colab": {},
    "colab_type": "code",
    "id": "tHyGWCaKL3LE"
   },
   "outputs": [
    {
     "data": {
      "text/html": [
       "<div>\n",
       "<style scoped>\n",
       "    .dataframe tbody tr th:only-of-type {\n",
       "        vertical-align: middle;\n",
       "    }\n",
       "\n",
       "    .dataframe tbody tr th {\n",
       "        vertical-align: top;\n",
       "    }\n",
       "\n",
       "    .dataframe thead th {\n",
       "        text-align: right;\n",
       "    }\n",
       "</style>\n",
       "<table border=\"1\" class=\"dataframe\">\n",
       "  <thead>\n",
       "    <tr style=\"text-align: right;\">\n",
       "      <th></th>\n",
       "      <th>symbol</th>\n",
       "      <th>baseline_1</th>\n",
       "      <th>baseline_2</th>\n",
       "      <th>baseline_3</th>\n",
       "      <th>DE.BSA.DMSO.day5_2</th>\n",
       "      <th>DE.BSA.DMSO.day5_3</th>\n",
       "      <th>DE.FFA.LPS.day5_1</th>\n",
       "      <th>DE.FFA.LPS.day5_2</th>\n",
       "      <th>DE.FFA.LPS.day5_3</th>\n",
       "      <th>DE.TMC.day5_1</th>\n",
       "      <th>DE.TMC.day5_2</th>\n",
       "      <th>DE.TMC.day5_3</th>\n",
       "    </tr>\n",
       "    <tr>\n",
       "      <th>gene_id</th>\n",
       "      <th></th>\n",
       "      <th></th>\n",
       "      <th></th>\n",
       "      <th></th>\n",
       "      <th></th>\n",
       "      <th></th>\n",
       "      <th></th>\n",
       "      <th></th>\n",
       "      <th></th>\n",
       "      <th></th>\n",
       "      <th></th>\n",
       "      <th></th>\n",
       "    </tr>\n",
       "  </thead>\n",
       "  <tbody>\n",
       "    <tr>\n",
       "      <th>ENSG00000248155</th>\n",
       "      <td>WI2-89927D4.1</td>\n",
       "      <td>0.496074</td>\n",
       "      <td>0.496074</td>\n",
       "      <td>0.496074</td>\n",
       "      <td>-0.627376</td>\n",
       "      <td>-0.627376</td>\n",
       "      <td>-4.61901</td>\n",
       "      <td>0.279975</td>\n",
       "      <td>-4.616600</td>\n",
       "      <td>-0.490349</td>\n",
       "      <td>-4.298650</td>\n",
       "      <td>-4.748550</td>\n",
       "    </tr>\n",
       "    <tr>\n",
       "      <th>ENSG00000274584</th>\n",
       "      <td>RP11-819M15.2</td>\n",
       "      <td>0.496074</td>\n",
       "      <td>0.496074</td>\n",
       "      <td>0.496074</td>\n",
       "      <td>-0.627376</td>\n",
       "      <td>-0.627376</td>\n",
       "      <td>-4.61901</td>\n",
       "      <td>-4.714800</td>\n",
       "      <td>-4.616600</td>\n",
       "      <td>-4.720340</td>\n",
       "      <td>-4.298650</td>\n",
       "      <td>-4.748550</td>\n",
       "    </tr>\n",
       "    <tr>\n",
       "      <th>ENSG00000228826</th>\n",
       "      <td>RP11-344P13.4</td>\n",
       "      <td>0.496074</td>\n",
       "      <td>0.496074</td>\n",
       "      <td>0.496074</td>\n",
       "      <td>-0.627376</td>\n",
       "      <td>-0.627376</td>\n",
       "      <td>-4.61901</td>\n",
       "      <td>-0.727078</td>\n",
       "      <td>-4.616600</td>\n",
       "      <td>-0.665645</td>\n",
       "      <td>-0.203773</td>\n",
       "      <td>-0.799714</td>\n",
       "    </tr>\n",
       "    <tr>\n",
       "      <th>ENSG00000278847</th>\n",
       "      <td>RP11-414C23.1</td>\n",
       "      <td>0.496074</td>\n",
       "      <td>0.496074</td>\n",
       "      <td>0.496074</td>\n",
       "      <td>-0.627376</td>\n",
       "      <td>-0.627376</td>\n",
       "      <td>-4.61901</td>\n",
       "      <td>-4.714800</td>\n",
       "      <td>-4.616600</td>\n",
       "      <td>-4.720340</td>\n",
       "      <td>-4.298650</td>\n",
       "      <td>-0.356121</td>\n",
       "    </tr>\n",
       "    <tr>\n",
       "      <th>ENSG00000272389</th>\n",
       "      <td>CTC-487M23.7</td>\n",
       "      <td>0.496074</td>\n",
       "      <td>0.496074</td>\n",
       "      <td>0.496074</td>\n",
       "      <td>-0.627376</td>\n",
       "      <td>-0.627376</td>\n",
       "      <td>-4.61901</td>\n",
       "      <td>-4.714800</td>\n",
       "      <td>-0.865132</td>\n",
       "      <td>-4.720340</td>\n",
       "      <td>-4.298650</td>\n",
       "      <td>-4.748550</td>\n",
       "    </tr>\n",
       "  </tbody>\n",
       "</table>\n",
       "</div>"
      ],
      "text/plain": [
       "                        symbol  baseline_1  baseline_2  baseline_3  \\\n",
       "gene_id                                                              \n",
       "ENSG00000248155  WI2-89927D4.1    0.496074    0.496074    0.496074   \n",
       "ENSG00000274584  RP11-819M15.2    0.496074    0.496074    0.496074   \n",
       "ENSG00000228826  RP11-344P13.4    0.496074    0.496074    0.496074   \n",
       "ENSG00000278847  RP11-414C23.1    0.496074    0.496074    0.496074   \n",
       "ENSG00000272389   CTC-487M23.7    0.496074    0.496074    0.496074   \n",
       "\n",
       "                 DE.BSA.DMSO.day5_2  DE.BSA.DMSO.day5_3  DE.FFA.LPS.day5_1  \\\n",
       "gene_id                                                                      \n",
       "ENSG00000248155           -0.627376           -0.627376           -4.61901   \n",
       "ENSG00000274584           -0.627376           -0.627376           -4.61901   \n",
       "ENSG00000228826           -0.627376           -0.627376           -4.61901   \n",
       "ENSG00000278847           -0.627376           -0.627376           -4.61901   \n",
       "ENSG00000272389           -0.627376           -0.627376           -4.61901   \n",
       "\n",
       "                 DE.FFA.LPS.day5_2  DE.FFA.LPS.day5_3  DE.TMC.day5_1  \\\n",
       "gene_id                                                                \n",
       "ENSG00000248155           0.279975          -4.616600      -0.490349   \n",
       "ENSG00000274584          -4.714800          -4.616600      -4.720340   \n",
       "ENSG00000228826          -0.727078          -4.616600      -0.665645   \n",
       "ENSG00000278847          -4.714800          -4.616600      -4.720340   \n",
       "ENSG00000272389          -4.714800          -0.865132      -4.720340   \n",
       "\n",
       "                 DE.TMC.day5_2  DE.TMC.day5_3  \n",
       "gene_id                                        \n",
       "ENSG00000248155      -4.298650      -4.748550  \n",
       "ENSG00000274584      -4.298650      -4.748550  \n",
       "ENSG00000228826      -0.203773      -0.799714  \n",
       "ENSG00000278847      -4.298650      -0.356121  \n",
       "ENSG00000272389      -4.298650      -4.748550  "
      ]
     },
     "execution_count": 5,
     "metadata": {},
     "output_type": "execute_result"
    }
   ],
   "source": [
    "expr_data_w_meta.head()"
   ]
  },
  {
   "cell_type": "markdown",
   "metadata": {
    "colab_type": "text",
    "id": "SvvDDRFML3LG"
   },
   "source": [
    "The data has mixed types (`strings` and `floats`). Sometimes it is best to separate these two from each other so you can easily do stats on the `floats`!"
   ]
  },
  {
   "cell_type": "markdown",
   "metadata": {
    "colab_type": "text",
    "id": "uoUSuAAJL3LH"
   },
   "source": [
    "### Notice that we have replicates!"
   ]
  },
  {
   "cell_type": "code",
   "execution_count": 6,
   "metadata": {
    "colab": {},
    "colab_type": "code",
    "id": "3ckZnvgKL3LI"
   },
   "outputs": [
    {
     "data": {
      "image/png": "[encoded data removed]",
      "text/plain": [
       "<Figure size 432x288 with 1 Axes>"
      ]
     },
     "metadata": {
      "needs_background": "light"
     },
     "output_type": "display_data"
    }
   ],
   "source": [
    "plt.scatter(expr_data_w_meta[\"baseline_1\"],expr_data_w_meta[\"baseline_2\"])\n",
    "plt.xlabel(\"Baseline Rep1\",fontsize=14)\n",
    "plt.ylabel(\"Baseline Rep2\",fontsize=14)\n",
    "plt.show()"
   ]
  },
  {
   "cell_type": "code",
   "execution_count": 7,
   "metadata": {
    "colab": {},
    "colab_type": "code",
    "id": "UBOJ0sXaL3LK"
   },
   "outputs": [],
   "source": [
    "from scipy import stats"
   ]
  },
  {
   "cell_type": "code",
   "execution_count": 8,
   "metadata": {
    "colab": {},
    "colab_type": "code",
    "id": "YDLoKhzAL3LM"
   },
   "outputs": [
    {
     "data": {
      "text/plain": [
       "(0.9961517923245065, 0.0)"
      ]
     },
     "execution_count": 8,
     "metadata": {},
     "output_type": "execute_result"
    }
   ],
   "source": [
    "corr = stats.pearsonr(expr_data_w_meta[\"baseline_1\"],expr_data_w_meta[\"baseline_2\"])\n",
    "corr"
   ]
  },
  {
   "cell_type": "code",
   "execution_count": 9,
   "metadata": {
    "colab": {},
    "colab_type": "code",
    "id": "gsdyRhxuL3LO"
   },
   "outputs": [
    {
     "data": {
      "image/png": "[encoded data removed]",
      "text/plain": [
       "<Figure size 432x288 with 1 Axes>"
      ]
     },
     "metadata": {
      "needs_background": "light"
     },
     "output_type": "display_data"
    }
   ],
   "source": [
    "plt.scatter(expr_data_w_meta[\"baseline_1\"],expr_data_w_meta[\"DE.TMC.day5_1\"])\n",
    "corr = stats.pearsonr(expr_data_w_meta[\"baseline_1\"],expr_data_w_meta[\"DE.TMC.day5_1\"])\n",
    "\n",
    "# We can add the correlation to the title\n",
    "plt.title(\"Pearsons Corr: {}\".format(np.round(corr[0],3)),fontsize=16)\n",
    "\n",
    "plt.xlabel(\"Baseline Rep1\",fontsize=14)\n",
    "plt.ylabel(\"TMC Day5 Rep1\",fontsize=14)\n",
    "plt.show()"
   ]
  },
  {
   "cell_type": "markdown",
   "metadata": {
    "colab_type": "text",
    "id": "klXoZLCqL3LP"
   },
   "source": [
    "<h3 style=\"color:red;\"> Exercise: Split dataframe into two parts </h3>"
   ]
  },
  {
   "cell_type": "markdown",
   "metadata": {
    "colab_type": "text",
    "id": "DgMP57VtL3LQ"
   },
   "source": [
    "Subset `expr_data_w_meta` to contain only the column `symbol` and save to new variable called `annots` \n",
    "\n",
    "**Hint:** Remember `loc` from *Lesson1*"
   ]
  },
  {
   "cell_type": "code",
   "execution_count": 11,
   "metadata": {
    "colab": {},
    "colab_type": "code",
    "id": "Day-rl7XL3LQ"
   },
   "outputs": [],
   "source": [
    "annots = expr_data_w_meta.loc[:,[\"symbol\"]]"
   ]
  },
  {
   "cell_type": "markdown",
   "metadata": {
    "colab_type": "text",
    "id": "WWWoCJPML3LS"
   },
   "source": [
    "To get only the floats we have to subset `expr_data_w_meta`  to the remainder of the data. Use the dataframes `drop` function to exclude column `symbol` from the data. Set to new variable called `expr_data`."
   ]
  },
  {
   "cell_type": "code",
   "execution_count": 12,
   "metadata": {
    "colab": {},
    "colab_type": "code",
    "id": "W0HGutORL3LS"
   },
   "outputs": [],
   "source": [
    "expr_data = expr_data_w_meta.drop(\"symbol\",axis=1)"
   ]
  },
  {
   "cell_type": "markdown",
   "metadata": {
    "colab_type": "text",
    "id": "uIlGZXi2L3LT"
   },
   "source": [
    "Lets visualize the final results with `head`"
   ]
  },
  {
   "cell_type": "code",
   "execution_count": 13,
   "metadata": {
    "colab": {},
    "colab_type": "code",
    "id": "bawnw36WL3LT"
   },
   "outputs": [
    {
     "data": {
      "text/html": [
       "<div>\n",
       "<style scoped>\n",
       "    .dataframe tbody tr th:only-of-type {\n",
       "        vertical-align: middle;\n",
       "    }\n",
       "\n",
       "    .dataframe tbody tr th {\n",
       "        vertical-align: top;\n",
       "    }\n",
       "\n",
       "    .dataframe thead th {\n",
       "        text-align: right;\n",
       "    }\n",
       "</style>\n",
       "<table border=\"1\" class=\"dataframe\">\n",
       "  <thead>\n",
       "    <tr style=\"text-align: right;\">\n",
       "      <th></th>\n",
       "      <th>symbol</th>\n",
       "    </tr>\n",
       "    <tr>\n",
       "      <th>gene_id</th>\n",
       "      <th></th>\n",
       "    </tr>\n",
       "  </thead>\n",
       "  <tbody>\n",
       "    <tr>\n",
       "      <th>ENSG00000248155</th>\n",
       "      <td>WI2-89927D4.1</td>\n",
       "    </tr>\n",
       "    <tr>\n",
       "      <th>ENSG00000274584</th>\n",
       "      <td>RP11-819M15.2</td>\n",
       "    </tr>\n",
       "    <tr>\n",
       "      <th>ENSG00000228826</th>\n",
       "      <td>RP11-344P13.4</td>\n",
       "    </tr>\n",
       "    <tr>\n",
       "      <th>ENSG00000278847</th>\n",
       "      <td>RP11-414C23.1</td>\n",
       "    </tr>\n",
       "    <tr>\n",
       "      <th>ENSG00000272389</th>\n",
       "      <td>CTC-487M23.7</td>\n",
       "    </tr>\n",
       "  </tbody>\n",
       "</table>\n",
       "</div>"
      ],
      "text/plain": [
       "                        symbol\n",
       "gene_id                       \n",
       "ENSG00000248155  WI2-89927D4.1\n",
       "ENSG00000274584  RP11-819M15.2\n",
       "ENSG00000228826  RP11-344P13.4\n",
       "ENSG00000278847  RP11-414C23.1\n",
       "ENSG00000272389   CTC-487M23.7"
      ]
     },
     "execution_count": 13,
     "metadata": {},
     "output_type": "execute_result"
    }
   ],
   "source": [
    "annots.head()"
   ]
  },
  {
   "cell_type": "code",
   "execution_count": 30,
   "metadata": {
    "colab": {},
    "colab_type": "code",
    "id": "FjhQo3H-L3LV"
   },
   "outputs": [
    {
     "data": {
      "text/html": [
       "<div>\n",
       "<style scoped>\n",
       "    .dataframe tbody tr th:only-of-type {\n",
       "        vertical-align: middle;\n",
       "    }\n",
       "\n",
       "    .dataframe tbody tr th {\n",
       "        vertical-align: top;\n",
       "    }\n",
       "\n",
       "    .dataframe thead th {\n",
       "        text-align: right;\n",
       "    }\n",
       "</style>\n",
       "<table border=\"1\" class=\"dataframe\">\n",
       "  <thead>\n",
       "    <tr style=\"text-align: right;\">\n",
       "      <th></th>\n",
       "      <th>baseline_1</th>\n",
       "      <th>baseline_2</th>\n",
       "      <th>baseline_3</th>\n",
       "      <th>DE.BSA.DMSO.day5_2</th>\n",
       "      <th>DE.BSA.DMSO.day5_3</th>\n",
       "      <th>DE.FFA.LPS.day5_1</th>\n",
       "      <th>DE.FFA.LPS.day5_2</th>\n",
       "      <th>DE.FFA.LPS.day5_3</th>\n",
       "      <th>DE.TMC.day5_1</th>\n",
       "      <th>DE.TMC.day5_2</th>\n",
       "      <th>DE.TMC.day5_3</th>\n",
       "    </tr>\n",
       "    <tr>\n",
       "      <th>gene_id</th>\n",
       "      <th></th>\n",
       "      <th></th>\n",
       "      <th></th>\n",
       "      <th></th>\n",
       "      <th></th>\n",
       "      <th></th>\n",
       "      <th></th>\n",
       "      <th></th>\n",
       "      <th></th>\n",
       "      <th></th>\n",
       "      <th></th>\n",
       "    </tr>\n",
       "  </thead>\n",
       "  <tbody>\n",
       "    <tr>\n",
       "      <th>ENSG00000248155</th>\n",
       "      <td>0.496074</td>\n",
       "      <td>0.496074</td>\n",
       "      <td>0.496074</td>\n",
       "      <td>-0.627376</td>\n",
       "      <td>-0.627376</td>\n",
       "      <td>-4.61901</td>\n",
       "      <td>0.279975</td>\n",
       "      <td>-4.616600</td>\n",
       "      <td>-0.490349</td>\n",
       "      <td>-4.298650</td>\n",
       "      <td>-4.748550</td>\n",
       "    </tr>\n",
       "    <tr>\n",
       "      <th>ENSG00000274584</th>\n",
       "      <td>0.496074</td>\n",
       "      <td>0.496074</td>\n",
       "      <td>0.496074</td>\n",
       "      <td>-0.627376</td>\n",
       "      <td>-0.627376</td>\n",
       "      <td>-4.61901</td>\n",
       "      <td>-4.714800</td>\n",
       "      <td>-4.616600</td>\n",
       "      <td>-4.720340</td>\n",
       "      <td>-4.298650</td>\n",
       "      <td>-4.748550</td>\n",
       "    </tr>\n",
       "    <tr>\n",
       "      <th>ENSG00000228826</th>\n",
       "      <td>0.496074</td>\n",
       "      <td>0.496074</td>\n",
       "      <td>0.496074</td>\n",
       "      <td>-0.627376</td>\n",
       "      <td>-0.627376</td>\n",
       "      <td>-4.61901</td>\n",
       "      <td>-0.727078</td>\n",
       "      <td>-4.616600</td>\n",
       "      <td>-0.665645</td>\n",
       "      <td>-0.203773</td>\n",
       "      <td>-0.799714</td>\n",
       "    </tr>\n",
       "    <tr>\n",
       "      <th>ENSG00000278847</th>\n",
       "      <td>0.496074</td>\n",
       "      <td>0.496074</td>\n",
       "      <td>0.496074</td>\n",
       "      <td>-0.627376</td>\n",
       "      <td>-0.627376</td>\n",
       "      <td>-4.61901</td>\n",
       "      <td>-4.714800</td>\n",
       "      <td>-4.616600</td>\n",
       "      <td>-4.720340</td>\n",
       "      <td>-4.298650</td>\n",
       "      <td>-0.356121</td>\n",
       "    </tr>\n",
       "    <tr>\n",
       "      <th>ENSG00000272389</th>\n",
       "      <td>0.496074</td>\n",
       "      <td>0.496074</td>\n",
       "      <td>0.496074</td>\n",
       "      <td>-0.627376</td>\n",
       "      <td>-0.627376</td>\n",
       "      <td>-4.61901</td>\n",
       "      <td>-4.714800</td>\n",
       "      <td>-0.865132</td>\n",
       "      <td>-4.720340</td>\n",
       "      <td>-4.298650</td>\n",
       "      <td>-4.748550</td>\n",
       "    </tr>\n",
       "  </tbody>\n",
       "</table>\n",
       "</div>"
      ],
      "text/plain": [
       "                 baseline_1  baseline_2  baseline_3  DE.BSA.DMSO.day5_2  \\\n",
       "gene_id                                                                   \n",
       "ENSG00000248155    0.496074    0.496074    0.496074           -0.627376   \n",
       "ENSG00000274584    0.496074    0.496074    0.496074           -0.627376   \n",
       "ENSG00000228826    0.496074    0.496074    0.496074           -0.627376   \n",
       "ENSG00000278847    0.496074    0.496074    0.496074           -0.627376   \n",
       "ENSG00000272389    0.496074    0.496074    0.496074           -0.627376   \n",
       "\n",
       "                 DE.BSA.DMSO.day5_3  DE.FFA.LPS.day5_1  DE.FFA.LPS.day5_2  \\\n",
       "gene_id                                                                     \n",
       "ENSG00000248155           -0.627376           -4.61901           0.279975   \n",
       "ENSG00000274584           -0.627376           -4.61901          -4.714800   \n",
       "ENSG00000228826           -0.627376           -4.61901          -0.727078   \n",
       "ENSG00000278847           -0.627376           -4.61901          -4.714800   \n",
       "ENSG00000272389           -0.627376           -4.61901          -4.714800   \n",
       "\n",
       "                 DE.FFA.LPS.day5_3  DE.TMC.day5_1  DE.TMC.day5_2  \\\n",
       "gene_id                                                            \n",
       "ENSG00000248155          -4.616600      -0.490349      -4.298650   \n",
       "ENSG00000274584          -4.616600      -4.720340      -4.298650   \n",
       "ENSG00000228826          -4.616600      -0.665645      -0.203773   \n",
       "ENSG00000278847          -4.616600      -4.720340      -4.298650   \n",
       "ENSG00000272389          -0.865132      -4.720340      -4.298650   \n",
       "\n",
       "                 DE.TMC.day5_3  \n",
       "gene_id                         \n",
       "ENSG00000248155      -4.748550  \n",
       "ENSG00000274584      -4.748550  \n",
       "ENSG00000228826      -0.799714  \n",
       "ENSG00000278847      -0.356121  \n",
       "ENSG00000272389      -4.748550  "
      ]
     },
     "execution_count": 30,
     "metadata": {},
     "output_type": "execute_result"
    }
   ],
   "source": [
    "expr_data.head()"
   ]
  },
  {
   "cell_type": "code",
   "execution_count": 14,
   "metadata": {},
   "outputs": [
    {
     "data": {
      "text/plain": [
       "(21519, 11)"
      ]
     },
     "execution_count": 14,
     "metadata": {},
     "output_type": "execute_result"
    }
   ],
   "source": [
    "expr_data.shape"
   ]
  },
  {
   "cell_type": "markdown",
   "metadata": {
    "colab_type": "text",
    "id": "nLRjwBFSL3LX"
   },
   "source": [
    "## 2 - Data cleaning <a class=\"anchor\" id=\"2\"></a>"
   ]
  },
  {
   "cell_type": "markdown",
   "metadata": {
    "colab_type": "text",
    "id": "_Ch7gKbEL3LX"
   },
   "source": [
    "### Visualize hi-dimentional data and perform sample QC with principal components analysis (`PCA`) <a class=\"anchor\" id=\"2a\"></a>"
   ]
  },
  {
   "cell_type": "markdown",
   "metadata": {
    "colab_type": "text",
    "id": "vLOGmIjGL3LY"
   },
   "source": [
    "`PCA` is a method for performing *unsupervised* dimensionality reduction."
   ]
  },
  {
   "cell_type": "markdown",
   "metadata": {
    "colab_type": "text",
    "id": "BZNPk3byL3LZ"
   },
   "source": [
    "![](https://i.stack.imgur.com/G7Gkv.png)"
   ]
  },
  {
   "cell_type": "markdown",
   "metadata": {
    "colab_type": "text",
    "id": "XJJW24-yL3La"
   },
   "source": [
    "`Sklearn` is a powerful *Python* library that contains functions for machine learning. To learn more check out the [documentation](https://scikit-learn.org/stable/modules/unsupervised_reduction.html)."
   ]
  },
  {
   "cell_type": "code",
   "execution_count": 15,
   "metadata": {
    "colab": {},
    "colab_type": "code",
    "id": "1UBWMmAOL3Lb"
   },
   "outputs": [],
   "source": [
    "from sklearn.decomposition import PCA"
   ]
  },
  {
   "cell_type": "markdown",
   "metadata": {
    "colab_type": "text",
    "id": "yODX9ZDkL3Ld"
   },
   "source": [
    "Lets get the **first two** `principal components` (PCs) of our dataset"
   ]
  },
  {
   "cell_type": "code",
   "execution_count": 16,
   "metadata": {
    "colab": {},
    "colab_type": "code",
    "id": "NwRAY29vL3Le"
   },
   "outputs": [],
   "source": [
    "pca = PCA(n_components=2)\n",
    "data_pcs = pca.fit_transform(expr_data.T)"
   ]
  },
  {
   "cell_type": "code",
   "execution_count": 17,
   "metadata": {
    "colab": {},
    "colab_type": "code",
    "id": "wVC7gUocL3Lf"
   },
   "outputs": [
    {
     "data": {
      "text/plain": [
       "(11, 2)"
      ]
     },
     "execution_count": 17,
     "metadata": {},
     "output_type": "execute_result"
    }
   ],
   "source": [
    "data_pcs.shape"
   ]
  },
  {
   "cell_type": "code",
   "execution_count": 18,
   "metadata": {
    "colab": {},
    "colab_type": "code",
    "id": "d-blsEpkL3Lg"
   },
   "outputs": [
    {
     "data": {
      "text/plain": [
       "array([[ 141.62858564,   18.02693589],\n",
       "       [ 141.85090663,   16.62440468],\n",
       "       [ 141.87920854,   16.70108084],\n",
       "       [  64.74972037,    1.14917163],\n",
       "       [  64.39188228,    1.87949261],\n",
       "       [ -72.85627333,  -83.79353834],\n",
       "       [ -65.70112788,  -81.71419568],\n",
       "       [ -66.78381542,  -84.85722676],\n",
       "       [-104.59842214,   39.74377233],\n",
       "       [-139.67643893,  117.05826415],\n",
       "       [-104.88422576,   39.18183866]])"
      ]
     },
     "execution_count": 18,
     "metadata": {},
     "output_type": "execute_result"
    }
   ],
   "source": [
    "data_pcs"
   ]
  },
  {
   "cell_type": "markdown",
   "metadata": {
    "colab_type": "text",
    "id": "nn2XTMsqL3Lh"
   },
   "source": [
    "<h3 style=\"color:red;\"> What happens if we don't transpose our data? </h3>"
   ]
  },
  {
   "cell_type": "markdown",
   "metadata": {
    "colab_type": "text",
    "id": "FM6g5E2zL3Lh"
   },
   "source": [
    "What is the `variance` explained by these `PCs`?"
   ]
  },
  {
   "cell_type": "code",
   "execution_count": 19,
   "metadata": {
    "colab": {},
    "colab_type": "code",
    "id": "ywe7YlgIL3Li"
   },
   "outputs": [
    {
     "data": {
      "text/plain": [
       "array([0.57178728, 0.1777357 ])"
      ]
     },
     "execution_count": 19,
     "metadata": {},
     "output_type": "execute_result"
    }
   ],
   "source": [
    "pca.explained_variance_ratio_"
   ]
  },
  {
   "cell_type": "markdown",
   "metadata": {
    "colab_type": "text",
    "id": "zBaQ9Mh-L3Lj"
   },
   "source": [
    "<h3 style=\"color:red;\"> Exercise: Convert numpy array into a pandas dataframe </h3>"
   ]
  },
  {
   "cell_type": "markdown",
   "metadata": {
    "colab_type": "text",
    "id": "3R3IH7v8L3Lj"
   },
   "source": [
    "Use the function `pd.DataFrame()` and remember the three most important components of dataframes are the `data`, `columns`, `index`"
   ]
  },
  {
   "cell_type": "markdown",
   "metadata": {
    "colab_type": "text",
    "id": "9QBv3avML3Lk"
   },
   "source": [
    "Set this to a variable named `data_pcs_df` "
   ]
  },
  {
   "cell_type": "code",
   "execution_count": 20,
   "metadata": {},
   "outputs": [
    {
     "data": {
      "text/plain": [
       "(11, 2)"
      ]
     },
     "execution_count": 20,
     "metadata": {},
     "output_type": "execute_result"
    }
   ],
   "source": [
    "data_pcs.shape"
   ]
  },
  {
   "cell_type": "code",
   "execution_count": 21,
   "metadata": {
    "colab": {},
    "colab_type": "code",
    "id": "okAeNlMHL3Lk"
   },
   "outputs": [],
   "source": [
    "data_pcs_df = pd.DataFrame(data=data_pcs,index=expr_data.columns,columns=[\"PC1\",\"PC2\"])"
   ]
  },
  {
   "cell_type": "markdown",
   "metadata": {
    "colab_type": "text",
    "id": "ujlyo4BNL3Ll"
   },
   "source": [
    "Now that our data is only 2D lets plot it using `plt.scatter()`"
   ]
  },
  {
   "cell_type": "code",
   "execution_count": 22,
   "metadata": {
    "colab": {},
    "colab_type": "code",
    "id": "1yeLJh9vL3Ll"
   },
   "outputs": [
    {
     "data": {
      "image/png": "[encoded data removed]",
      "text/plain": [
       "<Figure size 432x288 with 1 Axes>"
      ]
     },
     "metadata": {
      "needs_background": "light"
     },
     "output_type": "display_data"
    }
   ],
   "source": [
    "plt.scatter(x=data_pcs_df.PC1, y=data_pcs_df.PC2)\n",
    "plt.xlabel(\"PC1\",fontsize=14)\n",
    "plt.ylabel(\"PC2\",fontsize=14)\n",
    "plt.title(\"PCA of Samples\",fontsize=18)\n",
    "plt.show()"
   ]
  },
  {
   "cell_type": "markdown",
   "metadata": {
    "colab_type": "text",
    "id": "bQVju6bCL3Lm"
   },
   "source": [
    "Lets make this plot better by adding colors for each condition, a legend, and changing the markers!"
   ]
  },
  {
   "cell_type": "code",
   "execution_count": 129,
   "metadata": {},
   "outputs": [
    {
     "name": "stdout",
     "output_type": "stream",
     "text": [
      "baseline_1\n",
      "baseline_2\n",
      "baseline_3\n",
      "DE.BSA.DMSO.day5_2\n",
      "DE.BSA.DMSO.day5_3\n",
      "DE.FFA.LPS.day5_1\n",
      "DE.FFA.LPS.day5_2\n",
      "DE.FFA.LPS.day5_3\n",
      "DE.TMC.day5_1\n",
      "DE.TMC.day5_2\n",
      "DE.TMC.day5_3\n"
     ]
    }
   ],
   "source": [
    "print(\"\\n\".join(data_pcs_df.index))"
   ]
  },
  {
   "cell_type": "code",
   "execution_count": 23,
   "metadata": {},
   "outputs": [
    {
     "data": {
      "text/plain": [
       "Index(['baseline_1', 'baseline_2', 'baseline_3', 'DE.BSA.DMSO.day5_2',\n",
       "       'DE.BSA.DMSO.day5_3', 'DE.FFA.LPS.day5_1', 'DE.FFA.LPS.day5_2',\n",
       "       'DE.FFA.LPS.day5_3', 'DE.TMC.day5_1', 'DE.TMC.day5_2', 'DE.TMC.day5_3'],\n",
       "      dtype='object')"
      ]
     },
     "execution_count": 23,
     "metadata": {},
     "output_type": "execute_result"
    }
   ],
   "source": [
    "data_pcs_df.index"
   ]
  },
  {
   "cell_type": "code",
   "execution_count": 24,
   "metadata": {
    "colab": {},
    "colab_type": "code",
    "id": "gMOM5F21L3Lm"
   },
   "outputs": [
    {
     "name": "stdout",
     "output_type": "stream",
     "text": [
      "baseline_1\n",
      "baseline_2\n",
      "baseline_3\n",
      "DE.BSA.DMSO.day5_2\n",
      "DE.BSA.DMSO.day5_3\n",
      "DE.FFA.LPS.day5_1\n",
      "DE.FFA.LPS.day5_2\n",
      "DE.FFA.LPS.day5_3\n",
      "DE.TMC.day5_1\n",
      "DE.TMC.day5_2\n",
      "DE.TMC.day5_3\n"
     ]
    }
   ],
   "source": [
    "print(\"\\n\".join(data_pcs_df.index))"
   ]
  },
  {
   "cell_type": "code",
   "execution_count": 27,
   "metadata": {},
   "outputs": [
    {
     "ename": "NameError",
     "evalue": "name 'colors' is not defined",
     "output_type": "error",
     "traceback": [
      "\u001b[0;31m---------------------------------------------------------------------------\u001b[0m",
      "\u001b[0;31mNameError\u001b[0m                                 Traceback (most recent call last)",
      "\u001b[0;32m<ipython-input-27-05f1346f3a6a>\u001b[0m in \u001b[0;36m<module>\u001b[0;34m\u001b[0m\n\u001b[0;32m----> 1\u001b[0;31m \u001b[0mlist\u001b[0m\u001b[0;34m(\u001b[0m\u001b[0mzip\u001b[0m\u001b[0;34m(\u001b[0m\u001b[0mdata_pcs_df\u001b[0m\u001b[0;34m.\u001b[0m\u001b[0mindex\u001b[0m\u001b[0;34m,\u001b[0m\u001b[0mcolors\u001b[0m\u001b[0;34m)\u001b[0m\u001b[0;34m)\u001b[0m\u001b[0;34m\u001b[0m\u001b[0;34m\u001b[0m\u001b[0m\n\u001b[0m",
      "\u001b[0;31mNameError\u001b[0m: name 'colors' is not defined"
     ]
    }
   ],
   "source": [
    "list(zip(data_pcs_df.index,colors))"
   ]
  },
  {
   "cell_type": "code",
   "execution_count": 26,
   "metadata": {},
   "outputs": [
    {
     "ename": "NameError",
     "evalue": "name 'colors' is not defined",
     "output_type": "error",
     "traceback": [
      "\u001b[0;31m---------------------------------------------------------------------------\u001b[0m",
      "\u001b[0;31mNameError\u001b[0m                                 Traceback (most recent call last)",
      "\u001b[0;32m<ipython-input-26-a7e4655ebed8>\u001b[0m in \u001b[0;36m<module>\u001b[0;34m\u001b[0m\n\u001b[0;32m----> 1\u001b[0;31m \u001b[0;32mfor\u001b[0m \u001b[0msample\u001b[0m\u001b[0;34m,\u001b[0m\u001b[0mcolor\u001b[0m \u001b[0;32min\u001b[0m \u001b[0mzip\u001b[0m\u001b[0;34m(\u001b[0m\u001b[0mdata_pcs_df\u001b[0m\u001b[0;34m.\u001b[0m\u001b[0mindex\u001b[0m\u001b[0;34m,\u001b[0m\u001b[0mcolors\u001b[0m\u001b[0;34m)\u001b[0m\u001b[0;34m:\u001b[0m\u001b[0;34m\u001b[0m\u001b[0;34m\u001b[0m\u001b[0m\n\u001b[0m\u001b[1;32m      2\u001b[0m     \u001b[0mprint\u001b[0m\u001b[0;34m(\u001b[0m\u001b[0msample\u001b[0m\u001b[0;34m)\u001b[0m\u001b[0;34m\u001b[0m\u001b[0;34m\u001b[0m\u001b[0m\n\u001b[1;32m      3\u001b[0m     \u001b[0mprint\u001b[0m\u001b[0;34m(\u001b[0m\u001b[0mcolor\u001b[0m\u001b[0;34m)\u001b[0m\u001b[0;34m\u001b[0m\u001b[0;34m\u001b[0m\u001b[0m\n",
      "\u001b[0;31mNameError\u001b[0m: name 'colors' is not defined"
     ]
    }
   ],
   "source": [
    "for sample,color in zip(data_pcs_df.index,colors):\n",
    "    print(sample)\n",
    "    print(color)"
   ]
  },
  {
   "cell_type": "code",
   "execution_count": 28,
   "metadata": {
    "colab": {},
    "colab_type": "code",
    "id": "bryreMKVL3Ln"
   },
   "outputs": [],
   "source": [
    "colors = [\"blue\"]*3+[\"purple\"]*2+[\"red\"]*3+[\"green\"]*3"
   ]
  },
  {
   "cell_type": "code",
   "execution_count": 29,
   "metadata": {},
   "outputs": [
    {
     "data": {
      "text/plain": [
       "['baseline', '1']"
      ]
     },
     "execution_count": 29,
     "metadata": {},
     "output_type": "execute_result"
    }
   ],
   "source": [
    "expr_data.columns[0].split(\"_\")"
   ]
  },
  {
   "cell_type": "code",
   "execution_count": 30,
   "metadata": {},
   "outputs": [
    {
     "data": {
      "text/plain": [
       "array(['baseline', 'DE.BSA.DMSO.day5', 'DE.FFA.LPS.day5', 'DE.TMC.day5'],\n",
       "      dtype=object)"
      ]
     },
     "execution_count": 30,
     "metadata": {},
     "output_type": "execute_result"
    }
   ],
   "source": [
    "pd.unique([col.split(\"_\")[0] for col in expr_data.columns])"
   ]
  },
  {
   "cell_type": "code",
   "execution_count": 31,
   "metadata": {
    "colab": {},
    "colab_type": "code",
    "id": "ZmSQH5TaL3Lp",
    "scrolled": true
   },
   "outputs": [
    {
     "data": {
      "image/png": "[encoded data removed]",
      "text/plain": [
       "<Figure size 432x288 with 1 Axes>"
      ]
     },
     "metadata": {
      "needs_background": "light"
     },
     "output_type": "display_data"
    }
   ],
   "source": [
    "plt.scatter(x=data_pcs_df.PC1, y=data_pcs_df.PC2,\n",
    "            s=200, marker=\"o\",\n",
    "            facecolors=\"none\", edgecolors = colors)\n",
    "\n",
    "# Create a custom legend\n",
    "legend_markers = [Line2D([0],[0],marker='o',color='blue',linewidth=0),\n",
    "                 Line2D([0],[0],marker='o',color='purple',linewidth=0),\n",
    "                 Line2D([0],[0],marker='o',color='red',linewidth=0),\n",
    "                 Line2D([0],[0],marker='o',color='green',linewidth=0)]\n",
    "\n",
    "plt.legend(legend_markers,[\"Baseline\", \"DMSO Day5\",\"LPS Day5\",\"TMC Day5\"])\n",
    "plt.xlabel(\"PC1\",fontsize=14)\n",
    "plt.ylabel(\"PC2\",fontsize=14)\n",
    "plt.title(\"PCA of Samples\",fontsize=18)\n",
    "plt.show()"
   ]
  },
  {
   "cell_type": "markdown",
   "metadata": {
    "colab_type": "text",
    "id": "Dg_RBmuDL3Lq"
   },
   "source": [
    "Looks like we have an **outlier** in our data. Since all other replicates align closely maybe we should remove it."
   ]
  },
  {
   "cell_type": "markdown",
   "metadata": {
    "colab_type": "text",
    "id": "LnJTuDflL3Lr"
   },
   "source": [
    "<H3 style=\"color:red;\"> Exercise: Figure out which data point is the outlier and drop it from our expression data </H3>"
   ]
  },
  {
   "cell_type": "markdown",
   "metadata": {
    "colab_type": "text",
    "id": "WiU0mGrzL3Lr"
   },
   "source": [
    "Hint: Look at `data_pcs_df`! We can remove a sample with `drop()` like we did before... \n",
    "\n",
    "We should also set this to a new variable named `expr_data_no_outlier`."
   ]
  },
  {
   "cell_type": "code",
   "execution_count": 32,
   "metadata": {},
   "outputs": [],
   "source": [
    "from scipy.spatial.distance import euclidean"
   ]
  },
  {
   "cell_type": "code",
   "execution_count": 33,
   "metadata": {},
   "outputs": [
    {
     "data": {
      "text/plain": [
       "403.46813383516945"
      ]
     },
     "execution_count": 33,
     "metadata": {},
     "output_type": "execute_result"
    }
   ],
   "source": [
    "euclidean(data_pcs_df.PC1,data_pcs_df.PC2)"
   ]
  },
  {
   "cell_type": "code",
   "execution_count": 34,
   "metadata": {
    "colab": {},
    "colab_type": "code",
    "id": "2ZrcOKlLL3Ls"
   },
   "outputs": [],
   "source": [
    "expr_data_no_outlier = expr_data.drop(\"DE.TMC.day5_2\",axis=1)"
   ]
  },
  {
   "cell_type": "markdown",
   "metadata": {
    "colab_type": "text",
    "id": "0feOCDyYL3Ls"
   },
   "source": [
    "### Filter genes with low expression <a class=\"anchor\" id=\"2b\"></a>"
   ]
  },
  {
   "cell_type": "code",
   "execution_count": 35,
   "metadata": {
    "scrolled": true
   },
   "outputs": [
    {
     "data": {
      "text/html": [
       "<div>\n",
       "<style scoped>\n",
       "    .dataframe tbody tr th:only-of-type {\n",
       "        vertical-align: middle;\n",
       "    }\n",
       "\n",
       "    .dataframe tbody tr th {\n",
       "        vertical-align: top;\n",
       "    }\n",
       "\n",
       "    .dataframe thead th {\n",
       "        text-align: right;\n",
       "    }\n",
       "</style>\n",
       "<table border=\"1\" class=\"dataframe\">\n",
       "  <thead>\n",
       "    <tr style=\"text-align: right;\">\n",
       "      <th></th>\n",
       "      <th>baseline_1</th>\n",
       "      <th>baseline_2</th>\n",
       "      <th>baseline_3</th>\n",
       "      <th>DE.BSA.DMSO.day5_2</th>\n",
       "      <th>DE.BSA.DMSO.day5_3</th>\n",
       "    </tr>\n",
       "    <tr>\n",
       "      <th>gene_id</th>\n",
       "      <th></th>\n",
       "      <th></th>\n",
       "      <th></th>\n",
       "      <th></th>\n",
       "      <th></th>\n",
       "    </tr>\n",
       "  </thead>\n",
       "  <tbody>\n",
       "    <tr>\n",
       "      <th>ENSG00000248155</th>\n",
       "      <td>True</td>\n",
       "      <td>True</td>\n",
       "      <td>True</td>\n",
       "      <td>False</td>\n",
       "      <td>False</td>\n",
       "    </tr>\n",
       "    <tr>\n",
       "      <th>ENSG00000274584</th>\n",
       "      <td>True</td>\n",
       "      <td>True</td>\n",
       "      <td>True</td>\n",
       "      <td>False</td>\n",
       "      <td>False</td>\n",
       "    </tr>\n",
       "    <tr>\n",
       "      <th>ENSG00000228826</th>\n",
       "      <td>True</td>\n",
       "      <td>True</td>\n",
       "      <td>True</td>\n",
       "      <td>False</td>\n",
       "      <td>False</td>\n",
       "    </tr>\n",
       "    <tr>\n",
       "      <th>ENSG00000278847</th>\n",
       "      <td>True</td>\n",
       "      <td>True</td>\n",
       "      <td>True</td>\n",
       "      <td>False</td>\n",
       "      <td>False</td>\n",
       "    </tr>\n",
       "    <tr>\n",
       "      <th>ENSG00000272389</th>\n",
       "      <td>True</td>\n",
       "      <td>True</td>\n",
       "      <td>True</td>\n",
       "      <td>False</td>\n",
       "      <td>False</td>\n",
       "    </tr>\n",
       "    <tr>\n",
       "      <th>ENSG00000254539</th>\n",
       "      <td>True</td>\n",
       "      <td>True</td>\n",
       "      <td>True</td>\n",
       "      <td>False</td>\n",
       "      <td>False</td>\n",
       "    </tr>\n",
       "    <tr>\n",
       "      <th>ENSG00000243779</th>\n",
       "      <td>True</td>\n",
       "      <td>True</td>\n",
       "      <td>True</td>\n",
       "      <td>False</td>\n",
       "      <td>False</td>\n",
       "    </tr>\n",
       "    <tr>\n",
       "      <th>ENSG00000233870</th>\n",
       "      <td>True</td>\n",
       "      <td>True</td>\n",
       "      <td>True</td>\n",
       "      <td>False</td>\n",
       "      <td>False</td>\n",
       "    </tr>\n",
       "    <tr>\n",
       "      <th>ENSG00000253227</th>\n",
       "      <td>True</td>\n",
       "      <td>True</td>\n",
       "      <td>True</td>\n",
       "      <td>False</td>\n",
       "      <td>False</td>\n",
       "    </tr>\n",
       "    <tr>\n",
       "      <th>ENSG00000271324</th>\n",
       "      <td>True</td>\n",
       "      <td>True</td>\n",
       "      <td>True</td>\n",
       "      <td>False</td>\n",
       "      <td>False</td>\n",
       "    </tr>\n",
       "    <tr>\n",
       "      <th>ENSG00000267699</th>\n",
       "      <td>True</td>\n",
       "      <td>True</td>\n",
       "      <td>True</td>\n",
       "      <td>False</td>\n",
       "      <td>False</td>\n",
       "    </tr>\n",
       "    <tr>\n",
       "      <th>ENSG00000272854</th>\n",
       "      <td>True</td>\n",
       "      <td>True</td>\n",
       "      <td>True</td>\n",
       "      <td>False</td>\n",
       "      <td>False</td>\n",
       "    </tr>\n",
       "    <tr>\n",
       "      <th>ENSG00000267119</th>\n",
       "      <td>True</td>\n",
       "      <td>True</td>\n",
       "      <td>True</td>\n",
       "      <td>False</td>\n",
       "      <td>False</td>\n",
       "    </tr>\n",
       "    <tr>\n",
       "      <th>ENSG00000224594</th>\n",
       "      <td>True</td>\n",
       "      <td>True</td>\n",
       "      <td>True</td>\n",
       "      <td>False</td>\n",
       "      <td>False</td>\n",
       "    </tr>\n",
       "    <tr>\n",
       "      <th>ENSG00000267082</th>\n",
       "      <td>True</td>\n",
       "      <td>True</td>\n",
       "      <td>True</td>\n",
       "      <td>False</td>\n",
       "      <td>False</td>\n",
       "    </tr>\n",
       "    <tr>\n",
       "      <th>ENSG00000273597</th>\n",
       "      <td>True</td>\n",
       "      <td>True</td>\n",
       "      <td>True</td>\n",
       "      <td>False</td>\n",
       "      <td>False</td>\n",
       "    </tr>\n",
       "    <tr>\n",
       "      <th>ENSG00000224011</th>\n",
       "      <td>True</td>\n",
       "      <td>True</td>\n",
       "      <td>True</td>\n",
       "      <td>False</td>\n",
       "      <td>False</td>\n",
       "    </tr>\n",
       "    <tr>\n",
       "      <th>ENSG00000258904</th>\n",
       "      <td>True</td>\n",
       "      <td>True</td>\n",
       "      <td>True</td>\n",
       "      <td>False</td>\n",
       "      <td>False</td>\n",
       "    </tr>\n",
       "    <tr>\n",
       "      <th>ENSG00000279361</th>\n",
       "      <td>True</td>\n",
       "      <td>True</td>\n",
       "      <td>True</td>\n",
       "      <td>False</td>\n",
       "      <td>False</td>\n",
       "    </tr>\n",
       "    <tr>\n",
       "      <th>ENSG00000213791</th>\n",
       "      <td>True</td>\n",
       "      <td>True</td>\n",
       "      <td>True</td>\n",
       "      <td>False</td>\n",
       "      <td>False</td>\n",
       "    </tr>\n",
       "    <tr>\n",
       "      <th>ENSG00000225107</th>\n",
       "      <td>True</td>\n",
       "      <td>True</td>\n",
       "      <td>True</td>\n",
       "      <td>False</td>\n",
       "      <td>False</td>\n",
       "    </tr>\n",
       "    <tr>\n",
       "      <th>ENSG00000227581</th>\n",
       "      <td>True</td>\n",
       "      <td>True</td>\n",
       "      <td>True</td>\n",
       "      <td>False</td>\n",
       "      <td>False</td>\n",
       "    </tr>\n",
       "    <tr>\n",
       "      <th>ENSG00000233942</th>\n",
       "      <td>True</td>\n",
       "      <td>True</td>\n",
       "      <td>True</td>\n",
       "      <td>False</td>\n",
       "      <td>False</td>\n",
       "    </tr>\n",
       "    <tr>\n",
       "      <th>ENSG00000276523</th>\n",
       "      <td>True</td>\n",
       "      <td>True</td>\n",
       "      <td>True</td>\n",
       "      <td>False</td>\n",
       "      <td>False</td>\n",
       "    </tr>\n",
       "    <tr>\n",
       "      <th>ENSG00000265962</th>\n",
       "      <td>True</td>\n",
       "      <td>True</td>\n",
       "      <td>True</td>\n",
       "      <td>False</td>\n",
       "      <td>False</td>\n",
       "    </tr>\n",
       "    <tr>\n",
       "      <th>ENSG00000250202</th>\n",
       "      <td>True</td>\n",
       "      <td>True</td>\n",
       "      <td>True</td>\n",
       "      <td>False</td>\n",
       "      <td>False</td>\n",
       "    </tr>\n",
       "    <tr>\n",
       "      <th>ENSG00000271882</th>\n",
       "      <td>True</td>\n",
       "      <td>True</td>\n",
       "      <td>True</td>\n",
       "      <td>False</td>\n",
       "      <td>False</td>\n",
       "    </tr>\n",
       "    <tr>\n",
       "      <th>ENSG00000274364</th>\n",
       "      <td>True</td>\n",
       "      <td>True</td>\n",
       "      <td>True</td>\n",
       "      <td>False</td>\n",
       "      <td>False</td>\n",
       "    </tr>\n",
       "    <tr>\n",
       "      <th>ENSG00000258789</th>\n",
       "      <td>True</td>\n",
       "      <td>True</td>\n",
       "      <td>True</td>\n",
       "      <td>False</td>\n",
       "      <td>False</td>\n",
       "    </tr>\n",
       "    <tr>\n",
       "      <th>ENSG00000274259</th>\n",
       "      <td>True</td>\n",
       "      <td>True</td>\n",
       "      <td>True</td>\n",
       "      <td>False</td>\n",
       "      <td>False</td>\n",
       "    </tr>\n",
       "    <tr>\n",
       "      <th>...</th>\n",
       "      <td>...</td>\n",
       "      <td>...</td>\n",
       "      <td>...</td>\n",
       "      <td>...</td>\n",
       "      <td>...</td>\n",
       "    </tr>\n",
       "    <tr>\n",
       "      <th>ENSG00000247596</th>\n",
       "      <td>True</td>\n",
       "      <td>True</td>\n",
       "      <td>True</td>\n",
       "      <td>True</td>\n",
       "      <td>True</td>\n",
       "    </tr>\n",
       "    <tr>\n",
       "      <th>ENSG00000108298</th>\n",
       "      <td>True</td>\n",
       "      <td>True</td>\n",
       "      <td>True</td>\n",
       "      <td>True</td>\n",
       "      <td>True</td>\n",
       "    </tr>\n",
       "    <tr>\n",
       "      <th>ENSG00000196230</th>\n",
       "      <td>True</td>\n",
       "      <td>True</td>\n",
       "      <td>True</td>\n",
       "      <td>True</td>\n",
       "      <td>True</td>\n",
       "    </tr>\n",
       "    <tr>\n",
       "      <th>ENSG00000145391</th>\n",
       "      <td>True</td>\n",
       "      <td>True</td>\n",
       "      <td>True</td>\n",
       "      <td>True</td>\n",
       "      <td>True</td>\n",
       "    </tr>\n",
       "    <tr>\n",
       "      <th>ENSG00000265808</th>\n",
       "      <td>True</td>\n",
       "      <td>True</td>\n",
       "      <td>True</td>\n",
       "      <td>True</td>\n",
       "      <td>True</td>\n",
       "    </tr>\n",
       "    <tr>\n",
       "      <th>ENSG00000146834</th>\n",
       "      <td>True</td>\n",
       "      <td>True</td>\n",
       "      <td>True</td>\n",
       "      <td>True</td>\n",
       "      <td>True</td>\n",
       "    </tr>\n",
       "    <tr>\n",
       "      <th>ENSG00000077549</th>\n",
       "      <td>True</td>\n",
       "      <td>True</td>\n",
       "      <td>True</td>\n",
       "      <td>True</td>\n",
       "      <td>True</td>\n",
       "    </tr>\n",
       "    <tr>\n",
       "      <th>ENSG00000197858</th>\n",
       "      <td>True</td>\n",
       "      <td>True</td>\n",
       "      <td>True</td>\n",
       "      <td>True</td>\n",
       "      <td>True</td>\n",
       "    </tr>\n",
       "    <tr>\n",
       "      <th>ENSG00000179950</th>\n",
       "      <td>True</td>\n",
       "      <td>True</td>\n",
       "      <td>True</td>\n",
       "      <td>True</td>\n",
       "      <td>True</td>\n",
       "    </tr>\n",
       "    <tr>\n",
       "      <th>ENSG00000135404</th>\n",
       "      <td>True</td>\n",
       "      <td>True</td>\n",
       "      <td>True</td>\n",
       "      <td>True</td>\n",
       "      <td>True</td>\n",
       "    </tr>\n",
       "    <tr>\n",
       "      <th>ENSG00000136240</th>\n",
       "      <td>True</td>\n",
       "      <td>True</td>\n",
       "      <td>True</td>\n",
       "      <td>True</td>\n",
       "      <td>True</td>\n",
       "    </tr>\n",
       "    <tr>\n",
       "      <th>ENSG00000116044</th>\n",
       "      <td>True</td>\n",
       "      <td>True</td>\n",
       "      <td>True</td>\n",
       "      <td>True</td>\n",
       "      <td>True</td>\n",
       "    </tr>\n",
       "    <tr>\n",
       "      <th>ENSG00000112977</th>\n",
       "      <td>True</td>\n",
       "      <td>True</td>\n",
       "      <td>True</td>\n",
       "      <td>True</td>\n",
       "      <td>True</td>\n",
       "    </tr>\n",
       "    <tr>\n",
       "      <th>ENSG00000182087</th>\n",
       "      <td>True</td>\n",
       "      <td>True</td>\n",
       "      <td>True</td>\n",
       "      <td>True</td>\n",
       "      <td>True</td>\n",
       "    </tr>\n",
       "    <tr>\n",
       "      <th>ENSG00000138768</th>\n",
       "      <td>True</td>\n",
       "      <td>True</td>\n",
       "      <td>True</td>\n",
       "      <td>True</td>\n",
       "      <td>True</td>\n",
       "    </tr>\n",
       "    <tr>\n",
       "      <th>ENSG00000126524</th>\n",
       "      <td>True</td>\n",
       "      <td>True</td>\n",
       "      <td>True</td>\n",
       "      <td>True</td>\n",
       "      <td>True</td>\n",
       "    </tr>\n",
       "    <tr>\n",
       "      <th>ENSG00000254999</th>\n",
       "      <td>True</td>\n",
       "      <td>True</td>\n",
       "      <td>True</td>\n",
       "      <td>True</td>\n",
       "      <td>True</td>\n",
       "    </tr>\n",
       "    <tr>\n",
       "      <th>ENSG00000072778</th>\n",
       "      <td>True</td>\n",
       "      <td>True</td>\n",
       "      <td>True</td>\n",
       "      <td>True</td>\n",
       "      <td>True</td>\n",
       "    </tr>\n",
       "    <tr>\n",
       "      <th>ENSG00000182473</th>\n",
       "      <td>True</td>\n",
       "      <td>True</td>\n",
       "      <td>True</td>\n",
       "      <td>True</td>\n",
       "      <td>True</td>\n",
       "    </tr>\n",
       "    <tr>\n",
       "      <th>ENSG00000185236</th>\n",
       "      <td>True</td>\n",
       "      <td>True</td>\n",
       "      <td>True</td>\n",
       "      <td>True</td>\n",
       "      <td>True</td>\n",
       "    </tr>\n",
       "    <tr>\n",
       "      <th>ENSG00000130309</th>\n",
       "      <td>True</td>\n",
       "      <td>True</td>\n",
       "      <td>True</td>\n",
       "      <td>True</td>\n",
       "      <td>True</td>\n",
       "    </tr>\n",
       "    <tr>\n",
       "      <th>ENSG00000105402</th>\n",
       "      <td>True</td>\n",
       "      <td>True</td>\n",
       "      <td>True</td>\n",
       "      <td>True</td>\n",
       "      <td>True</td>\n",
       "    </tr>\n",
       "    <tr>\n",
       "      <th>ENSG00000172757</th>\n",
       "      <td>True</td>\n",
       "      <td>True</td>\n",
       "      <td>True</td>\n",
       "      <td>True</td>\n",
       "      <td>True</td>\n",
       "    </tr>\n",
       "    <tr>\n",
       "      <th>ENSG00000213281</th>\n",
       "      <td>True</td>\n",
       "      <td>True</td>\n",
       "      <td>True</td>\n",
       "      <td>True</td>\n",
       "      <td>True</td>\n",
       "    </tr>\n",
       "    <tr>\n",
       "      <th>ENSG00000197111</th>\n",
       "      <td>True</td>\n",
       "      <td>True</td>\n",
       "      <td>True</td>\n",
       "      <td>True</td>\n",
       "      <td>True</td>\n",
       "    </tr>\n",
       "    <tr>\n",
       "      <th>ENSG00000147649</th>\n",
       "      <td>True</td>\n",
       "      <td>True</td>\n",
       "      <td>True</td>\n",
       "      <td>True</td>\n",
       "      <td>True</td>\n",
       "    </tr>\n",
       "    <tr>\n",
       "      <th>ENSG00000134153</th>\n",
       "      <td>True</td>\n",
       "      <td>True</td>\n",
       "      <td>True</td>\n",
       "      <td>True</td>\n",
       "      <td>True</td>\n",
       "    </tr>\n",
       "    <tr>\n",
       "      <th>ENSG00000173660</th>\n",
       "      <td>True</td>\n",
       "      <td>True</td>\n",
       "      <td>True</td>\n",
       "      <td>True</td>\n",
       "      <td>True</td>\n",
       "    </tr>\n",
       "    <tr>\n",
       "      <th>ENSG00000213614</th>\n",
       "      <td>True</td>\n",
       "      <td>True</td>\n",
       "      <td>True</td>\n",
       "      <td>True</td>\n",
       "      <td>True</td>\n",
       "    </tr>\n",
       "    <tr>\n",
       "      <th>ENSG00000106682</th>\n",
       "      <td>True</td>\n",
       "      <td>True</td>\n",
       "      <td>True</td>\n",
       "      <td>True</td>\n",
       "      <td>True</td>\n",
       "    </tr>\n",
       "  </tbody>\n",
       "</table>\n",
       "<p>21519 rows × 5 columns</p>\n",
       "</div>"
      ],
      "text/plain": [
       "                 baseline_1  baseline_2  baseline_3  DE.BSA.DMSO.day5_2  \\\n",
       "gene_id                                                                   \n",
       "ENSG00000248155        True        True        True               False   \n",
       "ENSG00000274584        True        True        True               False   \n",
       "ENSG00000228826        True        True        True               False   \n",
       "ENSG00000278847        True        True        True               False   \n",
       "ENSG00000272389        True        True        True               False   \n",
       "ENSG00000254539        True        True        True               False   \n",
       "ENSG00000243779        True        True        True               False   \n",
       "ENSG00000233870        True        True        True               False   \n",
       "ENSG00000253227        True        True        True               False   \n",
       "ENSG00000271324        True        True        True               False   \n",
       "ENSG00000267699        True        True        True               False   \n",
       "ENSG00000272854        True        True        True               False   \n",
       "ENSG00000267119        True        True        True               False   \n",
       "ENSG00000224594        True        True        True               False   \n",
       "ENSG00000267082        True        True        True               False   \n",
       "ENSG00000273597        True        True        True               False   \n",
       "ENSG00000224011        True        True        True               False   \n",
       "ENSG00000258904        True        True        True               False   \n",
       "ENSG00000279361        True        True        True               False   \n",
       "ENSG00000213791        True        True        True               False   \n",
       "ENSG00000225107        True        True        True               False   \n",
       "ENSG00000227581        True        True        True               False   \n",
       "ENSG00000233942        True        True        True               False   \n",
       "ENSG00000276523        True        True        True               False   \n",
       "ENSG00000265962        True        True        True               False   \n",
       "ENSG00000250202        True        True        True               False   \n",
       "ENSG00000271882        True        True        True               False   \n",
       "ENSG00000274364        True        True        True               False   \n",
       "ENSG00000258789        True        True        True               False   \n",
       "ENSG00000274259        True        True        True               False   \n",
       "...                     ...         ...         ...                 ...   \n",
       "ENSG00000247596        True        True        True                True   \n",
       "ENSG00000108298        True        True        True                True   \n",
       "ENSG00000196230        True        True        True                True   \n",
       "ENSG00000145391        True        True        True                True   \n",
       "ENSG00000265808        True        True        True                True   \n",
       "ENSG00000146834        True        True        True                True   \n",
       "ENSG00000077549        True        True        True                True   \n",
       "ENSG00000197858        True        True        True                True   \n",
       "ENSG00000179950        True        True        True                True   \n",
       "ENSG00000135404        True        True        True                True   \n",
       "ENSG00000136240        True        True        True                True   \n",
       "ENSG00000116044        True        True        True                True   \n",
       "ENSG00000112977        True        True        True                True   \n",
       "ENSG00000182087        True        True        True                True   \n",
       "ENSG00000138768        True        True        True                True   \n",
       "ENSG00000126524        True        True        True                True   \n",
       "ENSG00000254999        True        True        True                True   \n",
       "ENSG00000072778        True        True        True                True   \n",
       "ENSG00000182473        True        True        True                True   \n",
       "ENSG00000185236        True        True        True                True   \n",
       "ENSG00000130309        True        True        True                True   \n",
       "ENSG00000105402        True        True        True                True   \n",
       "ENSG00000172757        True        True        True                True   \n",
       "ENSG00000213281        True        True        True                True   \n",
       "ENSG00000197111        True        True        True                True   \n",
       "ENSG00000147649        True        True        True                True   \n",
       "ENSG00000134153        True        True        True                True   \n",
       "ENSG00000173660        True        True        True                True   \n",
       "ENSG00000213614        True        True        True                True   \n",
       "ENSG00000106682        True        True        True                True   \n",
       "\n",
       "                 DE.BSA.DMSO.day5_3  \n",
       "gene_id                              \n",
       "ENSG00000248155               False  \n",
       "ENSG00000274584               False  \n",
       "ENSG00000228826               False  \n",
       "ENSG00000278847               False  \n",
       "ENSG00000272389               False  \n",
       "ENSG00000254539               False  \n",
       "ENSG00000243779               False  \n",
       "ENSG00000233870               False  \n",
       "ENSG00000253227               False  \n",
       "ENSG00000271324               False  \n",
       "ENSG00000267699               False  \n",
       "ENSG00000272854               False  \n",
       "ENSG00000267119               False  \n",
       "ENSG00000224594               False  \n",
       "ENSG00000267082               False  \n",
       "ENSG00000273597               False  \n",
       "ENSG00000224011               False  \n",
       "ENSG00000258904               False  \n",
       "ENSG00000279361               False  \n",
       "ENSG00000213791               False  \n",
       "ENSG00000225107               False  \n",
       "ENSG00000227581               False  \n",
       "ENSG00000233942               False  \n",
       "ENSG00000276523               False  \n",
       "ENSG00000265962               False  \n",
       "ENSG00000250202               False  \n",
       "ENSG00000271882               False  \n",
       "ENSG00000274364               False  \n",
       "ENSG00000258789               False  \n",
       "ENSG00000274259               False  \n",
       "...                             ...  \n",
       "ENSG00000247596                True  \n",
       "ENSG00000108298                True  \n",
       "ENSG00000196230                True  \n",
       "ENSG00000145391                True  \n",
       "ENSG00000265808                True  \n",
       "ENSG00000146834                True  \n",
       "ENSG00000077549                True  \n",
       "ENSG00000197858                True  \n",
       "ENSG00000179950                True  \n",
       "ENSG00000135404                True  \n",
       "ENSG00000136240                True  \n",
       "ENSG00000116044                True  \n",
       "ENSG00000112977                True  \n",
       "ENSG00000182087                True  \n",
       "ENSG00000138768                True  \n",
       "ENSG00000126524                True  \n",
       "ENSG00000254999                True  \n",
       "ENSG00000072778                True  \n",
       "ENSG00000182473                True  \n",
       "ENSG00000185236                True  \n",
       "ENSG00000130309                True  \n",
       "ENSG00000105402                True  \n",
       "ENSG00000172757                True  \n",
       "ENSG00000213281                True  \n",
       "ENSG00000197111                True  \n",
       "ENSG00000147649                True  \n",
       "ENSG00000134153                True  \n",
       "ENSG00000173660                True  \n",
       "ENSG00000213614                True  \n",
       "ENSG00000106682                True  \n",
       "\n",
       "[21519 rows x 5 columns]"
      ]
     },
     "execution_count": 35,
     "metadata": {},
     "output_type": "execute_result"
    }
   ],
   "source": [
    "(np.exp(expr_data_no_outlier.iloc[:,:5])>1)"
   ]
  },
  {
   "cell_type": "code",
   "execution_count": 36,
   "metadata": {
    "colab": {},
    "colab_type": "code",
    "id": "Sp2kBzUvL3Lt"
   },
   "outputs": [],
   "source": [
    "cond = (np.exp(expr_data_no_outlier.iloc[:,:5])>1).all(axis=1)"
   ]
  },
  {
   "cell_type": "code",
   "execution_count": 37,
   "metadata": {
    "colab": {},
    "colab_type": "code",
    "id": "DtFzUfshL3Lu"
   },
   "outputs": [],
   "source": [
    "expr_data_no_outlier_filter = expr_data_no_outlier.loc[cond,:]"
   ]
  },
  {
   "cell_type": "code",
   "execution_count": 38,
   "metadata": {
    "colab": {},
    "colab_type": "code",
    "id": "bTNwObv6L3Lu"
   },
   "outputs": [
    {
     "data": {
      "text/plain": [
       "(14271, 10)"
      ]
     },
     "execution_count": 38,
     "metadata": {},
     "output_type": "execute_result"
    }
   ],
   "source": [
    "expr_data_no_outlier_filter.shape"
   ]
  },
  {
   "cell_type": "markdown",
   "metadata": {
    "colab_type": "text",
    "id": "-hJJ63ERL3Lv"
   },
   "source": [
    "<h3 style=\"color:red;\"> What do you think will happen to our PCs if we were to re-calculate with the subset of genes? </h3>"
   ]
  },
  {
   "cell_type": "markdown",
   "metadata": {
    "colab_type": "text",
    "id": "9TaO6nNyL3Lv"
   },
   "source": [
    "### Write filtered data to new file"
   ]
  },
  {
   "cell_type": "markdown",
   "metadata": {
    "colab_type": "text",
    "id": "IjUNX9g1L3Lv"
   },
   "source": [
    "<h3 style=\"color:red;\"> Exercise: Re-join the gene annotations with the now filtered data </h3>"
   ]
  },
  {
   "cell_type": "markdown",
   "metadata": {
    "colab_type": "text",
    "id": "kBDEvP7mL3Lv"
   },
   "source": [
    "Join `annots` with `expr_data_no_outlier_filter`"
   ]
  },
  {
   "cell_type": "markdown",
   "metadata": {
    "colab_type": "text",
    "id": "7-dQf3XmL3Lw"
   },
   "source": [
    "**Hint:** We don't want to end up with `NaNs` in our dataset so think of how we can avoid them! Also, the order of columns depends on which dataframe you join on... \n",
    "\n",
    "**Example:** df1, df2\n",
    "\n",
    "If we use `df1.join(df2)` the columns for df1 will come first"
   ]
  },
  {
   "cell_type": "markdown",
   "metadata": {
    "colab_type": "text",
    "id": "ycibA_2uL3Lw"
   },
   "source": [
    "Set the output to a variable named `expr_data_no_outlier_filter_w_meta`"
   ]
  },
  {
   "cell_type": "code",
   "execution_count": 40,
   "metadata": {
    "colab": {},
    "colab_type": "code",
    "id": "oHtp0HGNL3Lw"
   },
   "outputs": [],
   "source": [
    "annots.join(expr_data_no_outlier_filter).dropna().head()\n",
    "?annots.join"
   ]
  },
  {
   "cell_type": "code",
   "execution_count": 41,
   "metadata": {},
   "outputs": [],
   "source": [
    "expr_data_no_outlier_filter_w_meta = annots.join(expr_data_no_outlier_filter,how=\"right\",)"
   ]
  },
  {
   "cell_type": "markdown",
   "metadata": {
    "colab_type": "text",
    "id": "2vTBq2mdL3Lx"
   },
   "source": [
    "Now lets write the data to a new file using *pandas* `to_csv`"
   ]
  },
  {
   "cell_type": "code",
   "execution_count": 42,
   "metadata": {
    "colab": {},
    "colab_type": "code",
    "id": "HfAg--_rL3Lx"
   },
   "outputs": [],
   "source": [
    "expr_data_no_outlier_filter_w_meta.to_csv(\"inSphero.abundance.table_edit190410_filtered.csv\")"
   ]
  },
  {
   "cell_type": "markdown",
   "metadata": {
    "colab_type": "text",
    "id": "EhpEKIdFL3Ly"
   },
   "source": [
    "## 3 - More data visualization <a class=\"anchor\" id=\"3\"></a>"
   ]
  },
  {
   "cell_type": "markdown",
   "metadata": {
    "colab_type": "text",
    "id": "g-T9TXgUL3Ly"
   },
   "source": [
    "### Create boxplot of gene expression across conditions"
   ]
  },
  {
   "cell_type": "code",
   "execution_count": 107,
   "metadata": {},
   "outputs": [
    {
     "data": {
      "text/plain": [
       "(14271, 10)"
      ]
     },
     "execution_count": 107,
     "metadata": {},
     "output_type": "execute_result"
    }
   ],
   "source": [
    "expr_data_no_outlier_filter.values.shape"
   ]
  },
  {
   "cell_type": "code",
   "execution_count": 109,
   "metadata": {
    "colab": {},
    "colab_type": "code",
    "id": "9-yE6367L3Ly"
   },
   "outputs": [
    {
     "data": {
      "image/png": "[encoded data removed]",
      "text/plain": [
       "<Figure size 432x288 with 1 Axes>"
      ]
     },
     "metadata": {
      "needs_background": "light"
     },
     "output_type": "display_data"
    }
   ],
   "source": [
    "plt.boxplot(x=expr_data_no_outlier.values, \n",
    "            labels=expr_data_no_outlier_filter.columns)\n",
    "plt.xticks(rotation=90)\n",
    "plt.ylabel(\"ln(tpm)\",fontsize=14)\n",
    "plt.show()"
   ]
  },
  {
   "cell_type": "markdown",
   "metadata": {
    "colab_type": "text",
    "id": "SpZaKD0gL3Lz"
   },
   "source": [
    "### Plot histogram of average expression values"
   ]
  },
  {
   "cell_type": "code",
   "execution_count": 43,
   "metadata": {},
   "outputs": [
    {
     "data": {
      "text/plain": [
       "2.995732273553991"
      ]
     },
     "execution_count": 43,
     "metadata": {},
     "output_type": "execute_result"
    }
   ],
   "source": [
    "-np.log(0.05)"
   ]
  },
  {
   "cell_type": "code",
   "execution_count": 44,
   "metadata": {},
   "outputs": [
    {
     "data": {
      "text/plain": [
       "gene_id\n",
       "ENSG00000241362   -0.447829\n",
       "ENSG00000260571   -1.408627\n",
       "ENSG00000205693   -0.539252\n",
       "ENSG00000239775    0.871678\n",
       "ENSG00000259444   -0.476246\n",
       "ENSG00000235272    0.310754\n",
       "ENSG00000263432    0.356033\n",
       "ENSG00000260418    0.307074\n",
       "ENSG00000220323    0.387530\n",
       "ENSG00000248709   -1.680078\n",
       "ENSG00000231702    0.073037\n",
       "ENSG00000256553   -0.328715\n",
       "ENSG00000258732    0.193095\n",
       "ENSG00000254719   -1.116686\n",
       "ENSG00000256590   -1.795784\n",
       "ENSG00000237854    0.769091\n",
       "ENSG00000230397   -0.601672\n",
       "ENSG00000259760    0.964645\n",
       "ENSG00000255689   -2.149403\n",
       "ENSG00000235576    0.755127\n",
       "ENSG00000157368    0.986661\n",
       "ENSG00000235077    0.634444\n",
       "ENSG00000238005   -0.537859\n",
       "ENSG00000267405   -0.541277\n",
       "ENSG00000260342    0.337063\n",
       "ENSG00000232445    1.046668\n",
       "ENSG00000146963    1.409715\n",
       "ENSG00000131400    0.056329\n",
       "ENSG00000211896    3.570754\n",
       "ENSG00000185269    0.481257\n",
       "                     ...   \n",
       "ENSG00000247596    4.342714\n",
       "ENSG00000108298    7.047541\n",
       "ENSG00000196230    5.471113\n",
       "ENSG00000145391    3.272748\n",
       "ENSG00000265808    3.363715\n",
       "ENSG00000146834    3.246812\n",
       "ENSG00000077549    5.336604\n",
       "ENSG00000197858    4.579203\n",
       "ENSG00000179950    4.678177\n",
       "ENSG00000135404    7.445948\n",
       "ENSG00000136240    4.695400\n",
       "ENSG00000116044    3.943762\n",
       "ENSG00000112977    4.715971\n",
       "ENSG00000182087    5.253480\n",
       "ENSG00000138768    3.948834\n",
       "ENSG00000126524    4.289828\n",
       "ENSG00000254999    4.650610\n",
       "ENSG00000072778    6.973267\n",
       "ENSG00000182473    3.874548\n",
       "ENSG00000185236    4.484948\n",
       "ENSG00000130309    4.555908\n",
       "ENSG00000105402    4.957235\n",
       "ENSG00000172757    6.443995\n",
       "ENSG00000213281    3.067282\n",
       "ENSG00000197111    5.846590\n",
       "ENSG00000147649    4.304173\n",
       "ENSG00000134153    4.450366\n",
       "ENSG00000173660    5.277668\n",
       "ENSG00000213614    5.422879\n",
       "ENSG00000106682    4.945831\n",
       "Length: 14271, dtype: float64"
      ]
     },
     "execution_count": 44,
     "metadata": {},
     "output_type": "execute_result"
    }
   ],
   "source": [
    "expr_data_no_outlier_filter.mean(axis=1)"
   ]
  },
  {
   "cell_type": "code",
   "execution_count": 45,
   "metadata": {
    "colab": {},
    "colab_type": "code",
    "id": "cW6jsfFdL3L0"
   },
   "outputs": [
    {
     "data": {
      "image/png": "[encoded data removed]",
      "text/plain": [
       "<Figure size 432x288 with 1 Axes>"
      ]
     },
     "metadata": {
      "needs_background": "light"
     },
     "output_type": "display_data"
    }
   ],
   "source": [
    "plt.hist(expr_data_no_outlier_filter.mean(axis=1),bins=100)\n",
    "plt.show()"
   ]
  },
  {
   "cell_type": "markdown",
   "metadata": {
    "colab_type": "text",
    "id": "uRU7k1seL3L1"
   },
   "source": [
    "## 4 - Extra challenges <a class=\"anchor\" id=\"4\"></a>"
   ]
  },
  {
   "cell_type": "markdown",
   "metadata": {
    "colab_type": "text",
    "id": "W5LYBYEHL3L1"
   },
   "source": [
    "### Extract the top 10 PCs and make a bar plot of the variance explained"
   ]
  },
  {
   "cell_type": "code",
   "execution_count": 49,
   "metadata": {
    "colab": {},
    "colab_type": "code",
    "id": "qlJbmaPML3L1"
   },
   "outputs": [
    {
     "name": "stdout",
     "output_type": "stream",
     "text": [
      "[0.57178728 0.1777357  0.08683496 0.04788049 0.04616285 0.04415977\n",
      " 0.02137181 0.00222481 0.00104227 0.00080006]\n"
     ]
    }
   ],
   "source": [
    "\n",
    "pca = PCA(n_components=10)\n",
    "data_pcs = pca.fit_transform(expr_data.T)\n",
    "\n",
    "data_pcs\n",
    "\n",
    "data_pcs_df = pd.DataFrame(data=data_pcs, \n",
    "                           columns=np.arange(1,11), \n",
    "                           index=expr_data.columns)\n",
    "print(pca.explained_variance_ratio_)"
   ]
  },
  {
   "cell_type": "code",
   "execution_count": 50,
   "metadata": {
    "colab": {},
    "colab_type": "code",
    "id": "DMx8pxHzL3L2"
   },
   "outputs": [
    {
     "data": {
      "image/png": "[encoded data removed]",
      "text/plain": [
       "<Figure size 432x288 with 1 Axes>"
      ]
     },
     "metadata": {
      "needs_background": "light"
     },
     "output_type": "display_data"
    }
   ],
   "source": [
    "plt.bar(x = np.arange(1,11), height = pca.explained_variance_ratio_)\n",
    "plt.xlabel(\"PCs\", fontsize=14)\n",
    "plt.ylabel(\"Variance Explained\", fontsize=14)\n",
    "plt.show()"
   ]
  },
  {
   "cell_type": "markdown",
   "metadata": {
    "colab_type": "text",
    "id": "9o21XmKrL3L3"
   },
   "source": [
    "### Plot PC2 vs PC3 or additional PCs"
   ]
  },
  {
   "cell_type": "code",
   "execution_count": null,
   "metadata": {
    "colab": {},
    "colab_type": "code",
    "id": "eDMWuZTwL3L3"
   },
   "outputs": [],
   "source": [
    "plt.scatter(x=data_pcs_df.loc[:,2], y=data_pcs_df.loc[:,3],\n",
    "            s=200, marker=\"o\",\n",
    "            facecolors=\"none\", edgecolors = colors)\n",
    "\n",
    "legend_markers = [Line2D([0],[0],marker='o',color='blue',linewidth=0),\n",
    "                 Line2D([0],[0],marker='o',color='purple',linewidth=0),\n",
    "                 Line2D([0],[0],marker='o',color='red',linewidth=0),\n",
    "                 Line2D([0],[0],marker='o',color='green',linewidth=0)]\n",
    "\n",
    "plt.legend(legend_markers,[\"Baseline\", \"DMSO Day5\",\"LPS Day5\",\"TMC Day5\"])\n",
    "plt.xlabel(\"PC2\",fontsize=14)\n",
    "plt.ylabel(\"PC3\",fontsize=14)\n",
    "plt.title(\"PCA of Samples\",fontsize=18)\n",
    "plt.show()"
   ]
  },
  {
   "cell_type": "markdown",
   "metadata": {
    "colab_type": "text",
    "id": "QvxxHR_fL3L4"
   },
   "source": [
    "## 5 - Extra Resources <a class=\"anchor\" id=\"5\"></a>"
   ]
  },
  {
   "cell_type": "markdown",
   "metadata": {
    "colab_type": "text",
    "id": "PUigJCnYL3L4"
   },
   "source": [
    "- [PCA with python](https://towardsdatascience.com/pca-using-python-scikit-learn-e653f8989e60)\n",
    "- [PCA details](https://stats.stackexchange.com/questions/2691/making-sense-of-principal-component-analysis-eigenvectors-eigenvalues/140579#140579)\n",
    "- [Plot enhancement with **seaborn**](https://seaborn.pydata.org)"
   ]
  }
 ],
 "metadata": {
  "colab": {
   "name": "IntermediatePy-Lesson2-Student.ipynb",
   "provenance": [],
   "version": "0.3.2"
  },
  "kernelspec": {
   "display_name": "Python 3",
   "language": "python",
   "name": "python3"
  },
  "language_info": {
   "codemirror_mode": {
    "name": "ipython",
    "version": 3
   },
   "file_extension": ".py",
   "mimetype": "text/x-python",
   "name": "python",
   "nbconvert_exporter": "python",
   "pygments_lexer": "ipython3",
   "version": "3.7.3"
  }
 },
 "nbformat": 4,
 "nbformat_minor": 1
}
